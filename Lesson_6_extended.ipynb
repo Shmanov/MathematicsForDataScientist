{
 "cells": [
  {
   "cell_type": "markdown",
   "metadata": {
    "id": "41AitfhKbsha"
   },
   "source": [
    "# Урок 6. Градиентный бустинг. AdaBoost"
   ]
  },
  {
   "cell_type": "markdown",
   "metadata": {},
   "source": [
    "**План занятия**\n",
    "\n",
    "* [Теоретическая часть](#theory)\n",
    "    * [Градиентный бустинг (GBM)](#gbm)\n",
    "        * [Алгоритм построения модели градиентного бустинга](#alg)\n",
    "        * [Реализация алгоритма градиентного бустинга](#implement)\n",
    "    * [AdaBoost](#ada)\n",
    "        * [Алгоритм AdaBoost](#alg_ada)\n",
    "        * [Реализация алгоритма AdaBoost](#implement_ada)\n",
    "* [Домашнее задание](#hw)"
   ]
  },
  {
   "cell_type": "markdown",
   "metadata": {},
   "source": [
    "## <center>Теоретическая часть<a class=\"anchor\" id=\"theory\"></a><center>"
   ]
  },
  {
   "cell_type": "markdown",
   "metadata": {
    "id": "MOGOQj2gbshe"
   },
   "source": [
    "В этом уроке мы продолжаем тему ансамблей алгоритмов, рассматривая еще один их вид - _градиентный бустинг_. "
   ]
  },
  {
   "cell_type": "markdown",
   "metadata": {
    "id": "NTW1uqTSbshf"
   },
   "source": [
    "Вспоминая тему предыдущего урока, случайные леса, напомним, что случайный лес - это ансамбль деревьев небольшой глубины, строящихся независимо друг от друга. В независимости построения деревьев кроется и **плюс и минус алгоритма**: с одной стороны, построение деревьев можно **распараллеливать** и, например, организовывать на разных ядрах процессора, с другой стороны, следствием их независимости является тот факт, что для решения сложных задач требуется очень **большое количество деревьев**. В этих случаях случаях (при большой выборке или большом количестве признаков) обучение случайного леса может требовать очень много ресурсов, а если для ограничения их потребления слишком ограничивать глубину деревьев, они могут не уловить все закономерности в данных и иметь большой сдвиг (и, следовательно, ошибку)."
   ]
  },
  {
   "cell_type": "markdown",
   "metadata": {
    "id": "1y67OFwjbshg"
   },
   "source": [
    "**Бустинг** является своеобразным решением этой проблемы: он заключается в **последовательном** построении ансамбля, когда деревья строятся одно за другим, и при этом каждое следующее дерево строится таким образом, чтобы исправлять ошибки уже построенного на данный момент ансамбля. При таком подходе базовые алгоритмы могут быть достаточно простыми, то есть можно использовать неглубокие деревья."
   ]
  },
  {
   "cell_type": "markdown",
   "metadata": {},
   "source": [
    "<img src='images/boosting.png'>"
   ]
  },
  {
   "cell_type": "markdown",
   "metadata": {
    "id": "WrgYbxN2bshh"
   },
   "source": [
    "## Градиентный бустинг (GBM)<a class='anchor' id='gbm'>\n",
    "[Видео](https://youtu.be/sDv4f4s2SB8) с подробным объяснением алгоритма"
   ]
  },
  {
   "cell_type": "markdown",
   "metadata": {},
   "source": [
    "**Продемонстрируем работу бустинга**"
   ]
  },
  {
   "cell_type": "code",
   "execution_count": 1,
   "metadata": {},
   "outputs": [
    {
     "data": {
      "text/html": [
       "<div>\n",
       "<style scoped>\n",
       "    .dataframe tbody tr th:only-of-type {\n",
       "        vertical-align: middle;\n",
       "    }\n",
       "\n",
       "    .dataframe tbody tr th {\n",
       "        vertical-align: top;\n",
       "    }\n",
       "\n",
       "    .dataframe thead th {\n",
       "        text-align: right;\n",
       "    }\n",
       "</style>\n",
       "<table border=\"1\" class=\"dataframe\">\n",
       "  <thead>\n",
       "    <tr style=\"text-align: right;\">\n",
       "      <th></th>\n",
       "      <th>age</th>\n",
       "      <th>sex</th>\n",
       "      <th>bmi</th>\n",
       "      <th>bp</th>\n",
       "      <th>s1</th>\n",
       "      <th>s2</th>\n",
       "      <th>s3</th>\n",
       "      <th>s4</th>\n",
       "      <th>s5</th>\n",
       "      <th>s6</th>\n",
       "    </tr>\n",
       "  </thead>\n",
       "  <tbody>\n",
       "    <tr>\n",
       "      <th>0</th>\n",
       "      <td>0.038076</td>\n",
       "      <td>0.050680</td>\n",
       "      <td>0.061696</td>\n",
       "      <td>0.021872</td>\n",
       "      <td>-0.044223</td>\n",
       "      <td>-0.034821</td>\n",
       "      <td>-0.043401</td>\n",
       "      <td>-0.002592</td>\n",
       "      <td>0.019908</td>\n",
       "      <td>-0.017646</td>\n",
       "    </tr>\n",
       "    <tr>\n",
       "      <th>1</th>\n",
       "      <td>-0.001882</td>\n",
       "      <td>-0.044642</td>\n",
       "      <td>-0.051474</td>\n",
       "      <td>-0.026328</td>\n",
       "      <td>-0.008449</td>\n",
       "      <td>-0.019163</td>\n",
       "      <td>0.074412</td>\n",
       "      <td>-0.039493</td>\n",
       "      <td>-0.068330</td>\n",
       "      <td>-0.092204</td>\n",
       "    </tr>\n",
       "    <tr>\n",
       "      <th>2</th>\n",
       "      <td>0.085299</td>\n",
       "      <td>0.050680</td>\n",
       "      <td>0.044451</td>\n",
       "      <td>-0.005671</td>\n",
       "      <td>-0.045599</td>\n",
       "      <td>-0.034194</td>\n",
       "      <td>-0.032356</td>\n",
       "      <td>-0.002592</td>\n",
       "      <td>0.002864</td>\n",
       "      <td>-0.025930</td>\n",
       "    </tr>\n",
       "    <tr>\n",
       "      <th>3</th>\n",
       "      <td>-0.089063</td>\n",
       "      <td>-0.044642</td>\n",
       "      <td>-0.011595</td>\n",
       "      <td>-0.036656</td>\n",
       "      <td>0.012191</td>\n",
       "      <td>0.024991</td>\n",
       "      <td>-0.036038</td>\n",
       "      <td>0.034309</td>\n",
       "      <td>0.022692</td>\n",
       "      <td>-0.009362</td>\n",
       "    </tr>\n",
       "    <tr>\n",
       "      <th>4</th>\n",
       "      <td>0.005383</td>\n",
       "      <td>-0.044642</td>\n",
       "      <td>-0.036385</td>\n",
       "      <td>0.021872</td>\n",
       "      <td>0.003935</td>\n",
       "      <td>0.015596</td>\n",
       "      <td>0.008142</td>\n",
       "      <td>-0.002592</td>\n",
       "      <td>-0.031991</td>\n",
       "      <td>-0.046641</td>\n",
       "    </tr>\n",
       "    <tr>\n",
       "      <th>...</th>\n",
       "      <td>...</td>\n",
       "      <td>...</td>\n",
       "      <td>...</td>\n",
       "      <td>...</td>\n",
       "      <td>...</td>\n",
       "      <td>...</td>\n",
       "      <td>...</td>\n",
       "      <td>...</td>\n",
       "      <td>...</td>\n",
       "      <td>...</td>\n",
       "    </tr>\n",
       "    <tr>\n",
       "      <th>437</th>\n",
       "      <td>0.041708</td>\n",
       "      <td>0.050680</td>\n",
       "      <td>0.019662</td>\n",
       "      <td>0.059744</td>\n",
       "      <td>-0.005697</td>\n",
       "      <td>-0.002566</td>\n",
       "      <td>-0.028674</td>\n",
       "      <td>-0.002592</td>\n",
       "      <td>0.031193</td>\n",
       "      <td>0.007207</td>\n",
       "    </tr>\n",
       "    <tr>\n",
       "      <th>438</th>\n",
       "      <td>-0.005515</td>\n",
       "      <td>0.050680</td>\n",
       "      <td>-0.015906</td>\n",
       "      <td>-0.067642</td>\n",
       "      <td>0.049341</td>\n",
       "      <td>0.079165</td>\n",
       "      <td>-0.028674</td>\n",
       "      <td>0.034309</td>\n",
       "      <td>-0.018118</td>\n",
       "      <td>0.044485</td>\n",
       "    </tr>\n",
       "    <tr>\n",
       "      <th>439</th>\n",
       "      <td>0.041708</td>\n",
       "      <td>0.050680</td>\n",
       "      <td>-0.015906</td>\n",
       "      <td>0.017282</td>\n",
       "      <td>-0.037344</td>\n",
       "      <td>-0.013840</td>\n",
       "      <td>-0.024993</td>\n",
       "      <td>-0.011080</td>\n",
       "      <td>-0.046879</td>\n",
       "      <td>0.015491</td>\n",
       "    </tr>\n",
       "    <tr>\n",
       "      <th>440</th>\n",
       "      <td>-0.045472</td>\n",
       "      <td>-0.044642</td>\n",
       "      <td>0.039062</td>\n",
       "      <td>0.001215</td>\n",
       "      <td>0.016318</td>\n",
       "      <td>0.015283</td>\n",
       "      <td>-0.028674</td>\n",
       "      <td>0.026560</td>\n",
       "      <td>0.044528</td>\n",
       "      <td>-0.025930</td>\n",
       "    </tr>\n",
       "    <tr>\n",
       "      <th>441</th>\n",
       "      <td>-0.045472</td>\n",
       "      <td>-0.044642</td>\n",
       "      <td>-0.073030</td>\n",
       "      <td>-0.081414</td>\n",
       "      <td>0.083740</td>\n",
       "      <td>0.027809</td>\n",
       "      <td>0.173816</td>\n",
       "      <td>-0.039493</td>\n",
       "      <td>-0.004220</td>\n",
       "      <td>0.003064</td>\n",
       "    </tr>\n",
       "  </tbody>\n",
       "</table>\n",
       "<p>442 rows × 10 columns</p>\n",
       "</div>"
      ],
      "text/plain": [
       "          age       sex       bmi        bp        s1        s2        s3  \\\n",
       "0    0.038076  0.050680  0.061696  0.021872 -0.044223 -0.034821 -0.043401   \n",
       "1   -0.001882 -0.044642 -0.051474 -0.026328 -0.008449 -0.019163  0.074412   \n",
       "2    0.085299  0.050680  0.044451 -0.005671 -0.045599 -0.034194 -0.032356   \n",
       "3   -0.089063 -0.044642 -0.011595 -0.036656  0.012191  0.024991 -0.036038   \n",
       "4    0.005383 -0.044642 -0.036385  0.021872  0.003935  0.015596  0.008142   \n",
       "..        ...       ...       ...       ...       ...       ...       ...   \n",
       "437  0.041708  0.050680  0.019662  0.059744 -0.005697 -0.002566 -0.028674   \n",
       "438 -0.005515  0.050680 -0.015906 -0.067642  0.049341  0.079165 -0.028674   \n",
       "439  0.041708  0.050680 -0.015906  0.017282 -0.037344 -0.013840 -0.024993   \n",
       "440 -0.045472 -0.044642  0.039062  0.001215  0.016318  0.015283 -0.028674   \n",
       "441 -0.045472 -0.044642 -0.073030 -0.081414  0.083740  0.027809  0.173816   \n",
       "\n",
       "           s4        s5        s6  \n",
       "0   -0.002592  0.019908 -0.017646  \n",
       "1   -0.039493 -0.068330 -0.092204  \n",
       "2   -0.002592  0.002864 -0.025930  \n",
       "3    0.034309  0.022692 -0.009362  \n",
       "4   -0.002592 -0.031991 -0.046641  \n",
       "..        ...       ...       ...  \n",
       "437 -0.002592  0.031193  0.007207  \n",
       "438  0.034309 -0.018118  0.044485  \n",
       "439 -0.011080 -0.046879  0.015491  \n",
       "440  0.026560  0.044528 -0.025930  \n",
       "441 -0.039493 -0.004220  0.003064  \n",
       "\n",
       "[442 rows x 10 columns]"
      ]
     },
     "execution_count": 1,
     "metadata": {},
     "output_type": "execute_result"
    }
   ],
   "source": [
    "from sklearn.datasets import load_diabetes\n",
    "from sklearn.tree import DecisionTreeRegressor\n",
    "from sklearn.metrics import r2_score\n",
    "\n",
    "\n",
    "X, y = load_diabetes(return_X_y=True, as_frame=True)\n",
    "X"
   ]
  },
  {
   "cell_type": "code",
   "execution_count": 2,
   "metadata": {},
   "outputs": [
    {
     "data": {
      "text/plain": [
       "0      151.0\n",
       "1       75.0\n",
       "2      141.0\n",
       "3      206.0\n",
       "4      135.0\n",
       "       ...  \n",
       "437    178.0\n",
       "438    104.0\n",
       "439    132.0\n",
       "440    220.0\n",
       "441     57.0\n",
       "Name: target, Length: 442, dtype: float64"
      ]
     },
     "execution_count": 2,
     "metadata": {},
     "output_type": "execute_result"
    }
   ],
   "source": [
    "y"
   ]
  },
  {
   "cell_type": "code",
   "execution_count": 3,
   "metadata": {},
   "outputs": [
    {
     "name": "stdout",
     "output_type": "stream",
     "text": [
      "R2 score 0.5006720154703376\n"
     ]
    }
   ],
   "source": [
    "# Обучаем первое дерево\n",
    "tree1 = DecisionTreeRegressor(max_depth=3,\n",
    "                              random_state=2)\n",
    "tree1.fit(X, y)\n",
    "\n",
    "prediction1 = tree1.predict(X)\n",
    "print(f'R2 score {r2_score(y, prediction1)}')"
   ]
  },
  {
   "cell_type": "code",
   "execution_count": 7,
   "metadata": {},
   "outputs": [
    {
     "data": {
      "text/plain": [
       "(141.0, 208.57142857142858, -67.57142857142858)"
      ]
     },
     "execution_count": 7,
     "metadata": {},
     "output_type": "execute_result"
    }
   ],
   "source": [
    "# Подсчитываем остатки\n",
    "residual1 = y - prediction1\n",
    "y[2], prediction1[2], residual1[2]"
   ]
  },
  {
   "cell_type": "code",
   "execution_count": 5,
   "metadata": {},
   "outputs": [
    {
     "name": "stdout",
     "output_type": "stream",
     "text": [
      "R2 score 0.5785866108916171\n"
     ]
    }
   ],
   "source": [
    "# Обучаем второе дерево на ошибках первого\n",
    "tree2 = DecisionTreeRegressor(max_depth=3,\n",
    "                              random_state=2)\n",
    "\n",
    "tree2.fit(X, residual1)\n",
    "\n",
    "prediction2 = tree1.predict(X) + tree2.predict(X)\n",
    "print(f'R2 score {r2_score(y, prediction2)}')"
   ]
  },
  {
   "cell_type": "code",
   "execution_count": 6,
   "metadata": {},
   "outputs": [
    {
     "data": {
      "text/plain": [
       "(141.0, 207.5052553799773, -66.50525537997731)"
      ]
     },
     "execution_count": 6,
     "metadata": {},
     "output_type": "execute_result"
    }
   ],
   "source": [
    "# Подсчитываем остатки\n",
    "residual2 = y - prediction2\n",
    "y[2], prediction2[2], residual2[2]"
   ]
  },
  {
   "cell_type": "code",
   "execution_count": 7,
   "metadata": {},
   "outputs": [
    {
     "name": "stdout",
     "output_type": "stream",
     "text": [
      "R2 score 0.6271203539706915\n"
     ]
    }
   ],
   "source": [
    "# Обучаем третье дерево на ошибках первого\n",
    "tree3 = DecisionTreeRegressor(max_depth=3,\n",
    "                              random_state=2)\n",
    "\n",
    "tree3.fit(X, residual2)\n",
    "\n",
    "prediction3 = tree1.predict(X) + tree2.predict(X) + tree3.predict(X)\n",
    "print(f'R2 score {r2_score(y, prediction3)}')"
   ]
  },
  {
   "cell_type": "code",
   "execution_count": 8,
   "metadata": {},
   "outputs": [
    {
     "data": {
      "text/plain": [
       "(141.0, 174.76070684814292, -33.76070684814292)"
      ]
     },
     "execution_count": 8,
     "metadata": {},
     "output_type": "execute_result"
    }
   ],
   "source": [
    "# Подсчитываем остатки\n",
    "residual3 = y - prediction3\n",
    "y[2], prediction3[2], residual3[2]"
   ]
  },
  {
   "cell_type": "markdown",
   "metadata": {},
   "source": [
    "<img src='images/boosting_sum.png'>"
   ]
  },
  {
   "cell_type": "markdown",
   "metadata": {
    "id": "djO4wPtSbshr"
   },
   "source": [
    "**Алгоритм построения градиентного бустинга**\n",
    "1. Инициализация начального алгоритма $b_{0}(x)$\n",
    "\n",
    "2. Цикл по n = 1,2,3,...:\n",
    "\n",
    "    * Подсчитывание остатков $s = \\left ( \\left.-\\frac{\\partial L}{\\partial z} \\right|_{z = a_{n-1}(x_{1})},...,\\left.-\\frac{\\partial L}{\\partial z} \\right|_{z = a_{n-1}(x_{l})}\\right );$\n",
    "\n",
    "    * Обучение нового алгоритма $b_{n}(x) = \\underset{s}{\\text{argmin}}\\frac{1}{l}\\sum_{i=1}^{l}(b(x_{i})-s_{i})^{2};$\n",
    "    \n",
    "    * Добавление алгоритма в композицию $a_{n}(x) = a_{n-1}(x) + \\eta b_{n}(x).$"
   ]
  },
  {
   "cell_type": "markdown",
   "metadata": {
    "id": "76g2hO7kbshi"
   },
   "source": [
    "Итоговый алгоритм ищется в виде взвешенной суммы базовых алгоритмов (обратите внимание: не среднего, а суммы):\n",
    "\n",
    "$$a_{N}(x) = \\sum^{N}_{n=1}b_{n}(x).$$"
   ]
  },
  {
   "cell_type": "markdown",
   "metadata": {
    "id": "1hrsZoI9bshj"
   },
   "source": [
    "В случае регрессии задача состоит в минимизации среднеквадратичного функционала ошибки:\n",
    "\n",
    "$$\\frac{1}{l}\\sum_{i=1}^{l}(a(x_{i}) - y_{i})^{2} \\rightarrow \\text{min}.$$"
   ]
  },
  {
   "cell_type": "markdown",
   "metadata": {
    "id": "z2nkwUaQbshj"
   },
   "source": [
    "Так как ансамбль строится итеративно, нужно в начале обучить первый простой алгоритм:\n",
    "\n",
    "$$b_{1}(x) = \\underset{b}{\\text{argmin}}\\frac{1}{l}\\sum_{i=1}^{l}(b(x_{i}) - y_{i})^{2}.$$"
   ]
  },
  {
   "cell_type": "markdown",
   "metadata": {
    "id": "u8FfQZLgbshl"
   },
   "source": [
    "После того, как мы нашли первый алгоритм $b_{1}(x)$, нам нужно добавить в ансамбль еще один алгоритм $b_{2}(x)$. Для начала найдем разницу ответов первого алгоритма с реальными ответами:\n",
    "\n",
    "$$s_{i}^{(1)} = y_{i} - b_{1}(x_{i}).$$\n",
    "\n",
    "Если прибавить эти значения к полученным предсказаниям, получим идеальный ответ. Таким образом, новый алгоритм логично обучать так, чтобы его ответы были максимально близки к этой разнице, чтобы при их прибавлении к ответам первого алгоритма мы получили близкие к реальным. Значит, второй алгоритм будет обучаться на следующем функционале ошибки:\n",
    "\n",
    "$$b_{2}(x) = \\underset{b}{\\text{argmin}}\\frac{1}{l}\\sum_{i=1}^{l}(b(x_{i}) - s_{i}^{(1)})^{2} = \\underset{b}{\\text{argmin}}\\frac{1}{l}\\sum_{i=1}^{l}(b(x_{i}) - (y_{i} - b_{1}(x_{i})))^{2}.$$"
   ]
  },
  {
   "cell_type": "markdown",
   "metadata": {
    "id": "KqJFy1z5bshm"
   },
   "source": [
    "Каждый следующий алгоритм также настраивается на остатки композиции из предыдущих алгоритмов:\n",
    "\n",
    "$$b_{N}(x) = \\underset{b}{\\text{argmin}}\\frac{1}{l}\\sum_{i=1}^{l}(b(x_{i}) - s_{i}^{(N)})^{2},$$ \n",
    "\n",
    "$$s_{i}^{(N)} = y_{i} - \\sum_{n=1}^{N-1}b_{n}(x_{i}) = y_{i} - a_{N-1}(x_{i}).$$"
   ]
  },
  {
   "cell_type": "markdown",
   "metadata": {
    "id": "VjU9v-qObshn"
   },
   "source": [
    "Таким образом, каждый новый алгоритм корректирует ошибки предыдущих, и так продолжается до момента получения приемлемой ошибки на композиции. Вектор коэффициентов $s$ при этом называют _вектором сдвига_.\n",
    "\n",
    "<img src=\"images/error.png\" width=500px>"
   ]
  },
  {
   "cell_type": "markdown",
   "metadata": {
    "id": "BvZvWsCUbsho"
   },
   "source": [
    "Выбор сдвига из условия $s_{i} = y_{i} - a_{N-1}(x_{i})$ требует точного совпадения полученных предсказаний и ответов, однако, в более общем случае вектор сдвига принимают с учетом особенностей используемой в данном случае функции потерь: вектор сдвига должен ее минимизировать, то есть направлять в сторону уменьшения. Как мы помним из метода градиентного спуска, направление наискорейшего убывания функции совпадает с ее антиградиентом. Таким образом, если при обучении мы минимизируем функционал ошибки $L(y,z)$\n",
    "\n",
    "$$\\sum_{i=1}^{l}L(y_{i}, a_{N-1}(x_{i}) + s_{i}) \\rightarrow \\underset{s}{\\text{min}},$$\n",
    "\n",
    "сдвиг на каждом шаге должен быть противоположен производной функции потерь в точке $z = a_{N-1}(x_{i})$. \n",
    "\n",
    "$$s_{i} = \\left.-\\frac{\\partial L}{\\partial z} \\right|_{z = a_{N-1}(x_{i})}.$$"
   ]
  },
  {
   "cell_type": "markdown",
   "metadata": {
    "id": "NZEVla3Rbsho"
   },
   "source": [
    "Каждый новый алгоритм таким образом выбирается так, чтобы как можно лучше приближать антиградиент ошибки на обучающей выборке. \n",
    "\n",
    "После того, как мы вычислили требуемый для минимизации ошибки сдвиг $s$, нужно настроить алгоритм $b_{N}(x)$ так, чтобы он давал максимально близкие к нему ответы, то есть обучать его именно на вектор сдвига. Близость ответов алгоритма к сдвигу обычно оценивается с помощью среднеквадратичной ошибки независимо от условий исходной задачи (так как исходно используемая функция потерь $L$ уже учтена в сдвигах $s_{i}$):\n",
    "\n",
    "$$b_{N}(x) = \\underset{s}{\\text{argmin}}\\frac{1}{l}\\sum_{i=1}^{l}(b(x_{i})-s_{i})^{2}.$$"
   ]
  },
  {
   "cell_type": "markdown",
   "metadata": {
    "id": "9d5iQMt3bshq"
   },
   "source": [
    "Обычно в качестве функции потерь в задачах регрессии принимается *квадратичная функция потерь* ($L_{2}$ loss):\n",
    "\n",
    "$$L(y, z) = (y - z)^{2},$$\n",
    "\n",
    "его **производная** по $z$ примет вид \n",
    "\n",
    "$$L'(y, z) = 2(z-y)$$\n",
    "\n",
    "или модуль отклонения ($L_{1}$ loss)\n",
    "\n",
    "$$L(y, z) = |y - z|,$$\n",
    "\n",
    "его **производная** по $z$ будет иметь вид \n",
    "\n",
    "$$L'(y, z) = \\text{sign}(z-y).$$\n",
    "\n",
    "В случае классификации - логистическая функция потерь (метки -1, +1), где z - оценка принадлежности классу:\n",
    "\n",
    "$$L(y, z) = log(1 + exp(-yz))$$\n",
    "\n",
    "ее **производная**:\n",
    "\n",
    "$$L'(y, z) = - \\frac{y_{i}}{1+exp(-yz)}.$$\n",
    "\n",
    "Следует помнить, что компоненты $s_{i}$, вычисляемые через эти производные, берутся с минусом."
   ]
  },
  {
   "cell_type": "markdown",
   "metadata": {
    "id": "MaEoz2tAbshr"
   },
   "source": [
    "Аналогично алгоритму градиентного спуска, имеет смысл добавлять ответ каждого нового алгоритма не полностью, а с некоторым шагом $\\eta \\in (0, 1]$, так как базовые алгоритмы обычно достаточно простые (например, деревья малой глубины), и они могут плохо приближать вектор антиградиента, и тогда вместо приближения к минимуму мы будем получать случайное блуждание в пространстве. В градиентном бустинге такой прием называется сокращением шага.\n",
    "\n",
    "$$a_{N}(x) = a_{N-1}(x) + \\eta b_{N}(x).$$\n",
    "\n",
    "Градиентный бустинг склонен к переобучению при увеличении числа итераций $N$ или глубины входящих в него деревьев. Стоит об этом помнить при построении алгоритма и выбирать оптимальные параметры по отложенной выборке или с помощью кросс-валидации."
   ]
  },
  {
   "cell_type": "markdown",
   "metadata": {},
   "source": [
    "### Алгоритм построения модели градиентного бустинга<a class='anchor' id='alg'>"
   ]
  },
  {
   "cell_type": "markdown",
   "metadata": {
    "id": "djO4wPtSbshr"
   },
   "source": [
    "__1.__ Для инициализации выбирается произвольный простой алгоритм $b_{0}(x)$, в его роли можно брать обычные константные алгоритмы: в случае задачи регрессии это может быть\n",
    "\n",
    "$$b_{0}(x) = 0$$\n",
    "\n",
    "или среднее значение по всем объектам обучающей выборки \n",
    "\n",
    "$$b_{0}(x) = \\frac{1}{l}\\sum_{i=1}^{l}y_{i};$$\n",
    "\n",
    "в случае классификации - самый часто встречающийся в выборке класс\n",
    "\n",
    "$$b_{0}(x) = \\underset{y}{\\text{argmax}}\\sum_{i=1}^{l}[y_{i} = y].$$\n",
    "\n",
    "__2.__ Для каждой итерации вычисляется вектор сдвига $s$:\n",
    "\n",
    "$$s = \\left ( \\left.-\\frac{\\partial L}{\\partial z} \\right|_{z = a_{n-1}(x_{1})},...,\\left.-\\frac{\\partial L}{\\partial z} \\right|_{z = a_{n-1}(x_{l})}\\right );$$\n",
    "\n",
    "находится алгоритм\n",
    "\n",
    "$$b_{n}(x) = \\underset{s}{\\text{argmin}}\\frac{1}{l}\\sum_{i=1}^{l}(b(x_{i})-s_{i})^{2};$$\n",
    "\n",
    "и добавляется в имеющийся ансамбль с умножением на шаг $\\eta$, называемый _скоростью обучения_ (опционно)\n",
    "\n",
    "$$a_{n}(x) = a_{n-1}(x) + \\eta b_{n}(x).$$\n",
    "\n",
    "__3.__ При достижении критериев остановки компонуется итоговая модель."
   ]
  },
  {
   "cell_type": "markdown",
   "metadata": {
    "id": "Rg5ilDbTbshs"
   },
   "source": [
    "### Стохастический градиентный бустинг"
   ]
  },
  {
   "cell_type": "markdown",
   "metadata": {
    "id": "eJrobWhDbsht"
   },
   "source": [
    "Как и в случае с градиентым спуском, есть так называемый стохастический градиентный бустинг, являющийся упрощенной (в плане потребления ресурсов) версией алгоритма. Его суть заключается в обучении каждого нового базового алгоритма на новой итерации не на всей обучающей выборке, а на некоторой ее случайной подвыборке. Практика показывает, что такой алгоритм позволяет получить такую же ошибку или даже уменьшить ее при том же числе итераций, что и в случае использования обычного бустинга."
   ]
  },
  {
   "cell_type": "markdown",
   "metadata": {
    "id": "qTdnsVCnbshu"
   },
   "source": [
    "### Реализация алгоритма градиентного бустинга<a class='anchor' id='implement'>"
   ]
  },
  {
   "cell_type": "markdown",
   "metadata": {
    "id": "0ll5qHP2bshv"
   },
   "source": [
    "Реализуем средствами Python алгоритм градиентного бустинга для деревьев решений."
   ]
  },
  {
   "cell_type": "markdown",
   "metadata": {
    "id": "1sG8r2RPbshw"
   },
   "source": [
    "Реализация деревьев решений была дважды продемонстрирована в предыдущих уроках, в этом не будем ее повторять и возьмем готовую реализацию дерева решений для регрессии из библиотеки `sklearn`."
   ]
  },
  {
   "cell_type": "code",
   "execution_count": 9,
   "metadata": {
    "id": "Qk-74OFhbshx"
   },
   "outputs": [],
   "source": [
    "from sklearn import model_selection\n",
    "from sklearn.tree import DecisionTreeRegressor\n",
    "from sklearn.datasets import load_diabetes\n",
    "import matplotlib.pyplot as plt\n",
    "import numpy as np"
   ]
  },
  {
   "cell_type": "markdown",
   "metadata": {
    "id": "LYD1kLOibsh0"
   },
   "source": [
    "Используем один из \"игрушечных\" датасетов из той же библиотеки."
   ]
  },
  {
   "cell_type": "code",
   "execution_count": 10,
   "metadata": {
    "id": "leu8bBI7bsh6"
   },
   "outputs": [
    {
     "data": {
      "text/plain": [
       "((442, 10), (442,))"
      ]
     },
     "execution_count": 10,
     "metadata": {},
     "output_type": "execute_result"
    }
   ],
   "source": [
    "X, y = load_diabetes(return_X_y=True)\n",
    "X.shape, y.shape"
   ]
  },
  {
   "cell_type": "markdown",
   "metadata": {
    "id": "cz_JhiIpbsh8"
   },
   "source": [
    "Разделим выборку на обучающую и тестовую в соотношении 75/25."
   ]
  },
  {
   "cell_type": "code",
   "execution_count": 11,
   "metadata": {
    "id": "ExZPR9FLbsh9"
   },
   "outputs": [],
   "source": [
    "X_train, X_test, y_train, y_test = model_selection.train_test_split(X, y, test_size=0.25)"
   ]
  },
  {
   "cell_type": "markdown",
   "metadata": {
    "id": "7xJCdggZbsh_"
   },
   "source": [
    "Напишем функцию, реализующую предсказание в градиентном бустинге."
   ]
  },
  {
   "cell_type": "code",
   "execution_count": 25,
   "metadata": {
    "id": "wU_Rkc63bsiA"
   },
   "outputs": [],
   "source": [
    "def gb_predict(X, trees_list, eta):\n",
    "    # Реализуемый алгоритм градиентного бустинга будет инициализироваться нулевыми значениями,\n",
    "    # поэтому все деревья из списка trees_list уже являются дополнительными и при предсказании\n",
    "    # прибавляются с шагом eta\n",
    "    \n",
    "#     predictions = np.zeros(X.shape[0])\n",
    "#     for i, x in enumerate(X):\n",
    "#         prediction = 0\n",
    "#         for alg in trees_list:\n",
    "#             prediction += eta * alg.predict([x])[0]\n",
    "#         predictions[i] = prediction\n",
    "        \n",
    "    predictions = np.array(\n",
    "        [sum([eta * alg.predict([x])[0] for alg in trees_list]) for x in X]\n",
    "    )\n",
    "\n",
    "    return predictions"
   ]
  },
  {
   "cell_type": "markdown",
   "metadata": {
    "id": "6gZvsyfSbsiD"
   },
   "source": [
    "В качестве функционала ошибки будем использовать среднеквадратичную ошибку. Реализуем соответствующую функцию."
   ]
  },
  {
   "cell_type": "code",
   "execution_count": 13,
   "metadata": {
    "id": "0xbjFIEKbsiE"
   },
   "outputs": [],
   "source": [
    "def mean_squared_error(y_real, prediction):\n",
    "    return (sum((y_real - prediction)**2)) / len(y_real)"
   ]
  },
  {
   "cell_type": "markdown",
   "metadata": {
    "id": "Qlr3KD6zbsiH"
   },
   "source": [
    "Используем $L_{2}$ loss $L(y, z) = (y - z)^{2},$ ее производная по $z$ примет вид $L'(y, z) = 2(z - y)$. Реализуем ее также в виде функции (коэффициент 2 можно отбросить)."
   ]
  },
  {
   "cell_type": "code",
   "execution_count": 14,
   "metadata": {
    "id": "WRaZEd3ebsiI"
   },
   "outputs": [],
   "source": [
    "def residual(y, z):\n",
    "    return - (z - y)"
   ]
  },
  {
   "cell_type": "markdown",
   "metadata": {
    "id": "ut-7dBgVbsiK"
   },
   "source": [
    "Реализуем функцию обучения градиентного бустинга."
   ]
  },
  {
   "cell_type": "code",
   "execution_count": 15,
   "metadata": {
    "id": "HoIdAoPYbsiL"
   },
   "outputs": [],
   "source": [
    "def gb_fit(n_trees, max_depth, X_train, X_test, y_train, y_test, eta):\n",
    "    \n",
    "    # Деревья будем записывать в список\n",
    "    trees = []\n",
    "    \n",
    "    # Будем записывать ошибки на обучающей и тестовой выборке на каждой итерации в список\n",
    "    train_errors = []\n",
    "    test_errors = []\n",
    "    \n",
    "    for i in range(n_trees):\n",
    "        tree = DecisionTreeRegressor(max_depth=max_depth, random_state=42)\n",
    "\n",
    "        # первый алгоритм просто обучаем на выборке и добавляем в список\n",
    "        if len(trees) == 0:\n",
    "            # обучаем первое дерево на обучающей выборке\n",
    "            tree.fit(X_train, y_train)\n",
    "            \n",
    "            train_errors.append(mean_squared_error(y_train, gb_predict(X_train, trees, eta)))\n",
    "            test_errors.append(mean_squared_error(y_test, gb_predict(X_test, trees, eta)))\n",
    "        else:\n",
    "            # Получим ответы на текущей композиции\n",
    "            target = gb_predict(X_train, trees, eta)\n",
    "            \n",
    "            # алгоритмы начиная со второго обучаем на сдвиг\n",
    "            tree.fit(X_train, residual(y_train, target))\n",
    "            \n",
    "            train_errors.append(mean_squared_error(y_train, gb_predict(X_train, trees, eta)))\n",
    "            test_errors.append(mean_squared_error(y_test, gb_predict(X_test, trees, eta)))\n",
    "\n",
    "        trees.append(tree)\n",
    "        \n",
    "    return trees, train_errors, test_errors"
   ]
  },
  {
   "cell_type": "markdown",
   "metadata": {
    "id": "0vkHFhhzbsiN"
   },
   "source": [
    "Теперь обучим несколько моделей с разными параметрами и исследуем их поведение."
   ]
  },
  {
   "cell_type": "code",
   "execution_count": 16,
   "metadata": {
    "id": "2WvxluSlbsiO"
   },
   "outputs": [],
   "source": [
    "# Число деревьев в ансамбле\n",
    "n_trees = 10\n",
    "\n",
    "# Максимальная глубина деревьев\n",
    "max_depth = 3\n",
    "\n",
    "# Шаг\n",
    "eta = 1\n",
    "\n",
    "trees, train_errors, test_errors = gb_fit(n_trees, max_depth, X_train, X_test, y_train, y_test, eta)"
   ]
  },
  {
   "cell_type": "code",
   "execution_count": 17,
   "metadata": {
    "id": "GDMFn3R-bsiR"
   },
   "outputs": [],
   "source": [
    "def evaluate_alg(X_train, X_test, y_train, y_test, trees, eta):\n",
    "    train_prediction = gb_predict(X_train, trees, eta)\n",
    "\n",
    "    print(f'Ошибка алгоритма из {n_trees} деревьев глубиной {max_depth} \\\n",
    "    с шагом {eta} на тренировочной выборке: {mean_squared_error(y_train, train_prediction)}')\n",
    "\n",
    "    test_prediction = gb_predict(X_test, trees, eta)\n",
    "\n",
    "    print(f'Ошибка алгоритма из {n_trees} деревьев глубиной {max_depth} \\\n",
    "    с шагом {eta} на тестовой выборке: {mean_squared_error(y_test, test_prediction)}')"
   ]
  },
  {
   "cell_type": "code",
   "execution_count": 18,
   "metadata": {
    "colab": {
     "base_uri": "https://localhost:8080/",
     "height": 52
    },
    "id": "WEBbjCynbsiV",
    "outputId": "b3781ad6-6705-4b77-fba5-1ebbb5367c73"
   },
   "outputs": [
    {
     "name": "stdout",
     "output_type": "stream",
     "text": [
      "Ошибка алгоритма из 10 деревьев глубиной 3     с шагом 1 на тренировочной выборке: 939.3369249313142\n",
      "Ошибка алгоритма из 10 деревьев глубиной 3     с шагом 1 на тестовой выборке: 5439.837083263545\n"
     ]
    }
   ],
   "source": [
    "evaluate_alg(X_train, X_test, y_train, y_test, trees, eta)"
   ]
  },
  {
   "cell_type": "markdown",
   "metadata": {
    "id": "TluGn7Iubsib"
   },
   "source": [
    "Построим графики зависимости ошибки на обучающей и тестовой выборках от числа итераций."
   ]
  },
  {
   "cell_type": "code",
   "execution_count": 19,
   "metadata": {
    "id": "gjDdKkgObsif"
   },
   "outputs": [],
   "source": [
    "def get_error_plot(n_trees, train_err, test_err):\n",
    "    plt.xlabel('Iteration number')\n",
    "    plt.ylabel('MSE')\n",
    "    plt.xlim(0, n_trees)\n",
    "    plt.plot(list(range(n_trees)), train_err, label='train error')\n",
    "    plt.plot(list(range(n_trees)), test_err, label='test error')\n",
    "    plt.legend(loc='upper right')\n",
    "    plt.show()"
   ]
  },
  {
   "cell_type": "code",
   "execution_count": 20,
   "metadata": {
    "colab": {
     "base_uri": "https://localhost:8080/",
     "height": 279
    },
    "id": "Was5hOJPbsih",
    "outputId": "797f1368-f60e-4c3a-ea1e-8d0cfd402780"
   },
   "outputs": [
    {
     "data": {
      "image/png": "[encoded data removed]",
      "text/plain": [
       "<Figure size 432x288 with 1 Axes>"
      ]
     },
     "metadata": {
      "needs_background": "light"
     },
     "output_type": "display_data"
    }
   ],
   "source": [
    "get_error_plot(n_trees, train_errors, test_errors)"
   ]
  },
  {
   "cell_type": "markdown",
   "metadata": {
    "id": "NS16dUwRbsik"
   },
   "source": [
    "Такой результат не является удовлетворительным"
   ]
  },
  {
   "cell_type": "markdown",
   "metadata": {
    "id": "9n8R32khbsil"
   },
   "source": [
    "Увеличим число деревьев."
   ]
  },
  {
   "cell_type": "code",
   "execution_count": 21,
   "metadata": {
    "id": "SdiTyDJrbsil"
   },
   "outputs": [
    {
     "name": "stdout",
     "output_type": "stream",
     "text": [
      "CPU times: user 1min 42s, sys: 600 ms, total: 1min 43s\n",
      "Wall time: 1min 44s\n"
     ]
    }
   ],
   "source": [
    "%%time\n",
    "n_trees = 50\n",
    "\n",
    "trees, train_errors, test_errors = gb_fit(n_trees, max_depth, X_train, X_test, y_train, y_test, eta)"
   ]
  },
  {
   "cell_type": "code",
   "execution_count": 60,
   "metadata": {
    "colab": {
     "base_uri": "https://localhost:8080/",
     "height": 52
    },
    "id": "PZ2BU15lbsin",
    "outputId": "d5e9e328-f74b-4324-dadd-803caa61f52e"
   },
   "outputs": [
    {
     "name": "stdout",
     "output_type": "stream",
     "text": [
      "Ошибка алгоритма из 50 деревьев глубиной 3     с шагом 1 на тренировочной выборке: 70.43861643653375\n",
      "Ошибка алгоритма из 50 деревьев глубиной 3     с шагом 1 на тестовой выборке: 5513.332418598973\n"
     ]
    }
   ],
   "source": [
    "evaluate_alg(X_train, X_test, y_train, y_test, trees, eta)"
   ]
  },
  {
   "cell_type": "code",
   "execution_count": 61,
   "metadata": {
    "colab": {
     "base_uri": "https://localhost:8080/",
     "height": 279
    },
    "id": "Wuls3BYWbsip",
    "outputId": "5c742cd2-9c1d-4674-a7a8-776d5129ff93"
   },
   "outputs": [
    {
     "data": {
      "image/png": "[encoded data removed]",
      "text/plain": [
       "<Figure size 432x288 with 1 Axes>"
      ]
     },
     "metadata": {
      "needs_background": "light"
     },
     "output_type": "display_data"
    }
   ],
   "source": [
    "get_error_plot(n_trees, train_errors, test_errors)"
   ]
  },
  {
   "cell_type": "markdown",
   "metadata": {
    "id": "V2gubWC0bsis"
   },
   "source": [
    "Теперь попробуем уменьшить шаг."
   ]
  },
  {
   "cell_type": "code",
   "execution_count": 62,
   "metadata": {
    "id": "SqfMt3KMbsis"
   },
   "outputs": [
    {
     "name": "stdout",
     "output_type": "stream",
     "text": [
      "CPU times: user 3min 15s, sys: 152 ms, total: 3min 15s\n",
      "Wall time: 3min 16s\n"
     ]
    }
   ],
   "source": [
    "%%time\n",
    "eta = 0.1\n",
    "\n",
    "trees, train_errors, test_errors = gb_fit(n_trees, max_depth, X_train, X_test, y_train, y_test, eta)"
   ]
  },
  {
   "cell_type": "code",
   "execution_count": 63,
   "metadata": {
    "colab": {
     "base_uri": "https://localhost:8080/",
     "height": 52
    },
    "id": "0Rkc97-ibsiu",
    "outputId": "f58221c0-17e8-43dd-c81b-9844ecec0808"
   },
   "outputs": [
    {
     "name": "stdout",
     "output_type": "stream",
     "text": [
      "Ошибка алгоритма из 50 деревьев глубиной 3     с шагом 0.1 на тренировочной выборке: 1522.5895529378424\n",
      "Ошибка алгоритма из 50 деревьев глубиной 3     с шагом 0.1 на тестовой выборке: 2874.4849477323646\n"
     ]
    }
   ],
   "source": [
    "evaluate_alg(X_train, X_test, y_train, y_test, trees, eta)"
   ]
  },
  {
   "cell_type": "code",
   "execution_count": 64,
   "metadata": {
    "id": "x0Ij4Fbrbsiw"
   },
   "outputs": [
    {
     "data": {
      "image/png": "[encoded data removed]",
      "text/plain": [
       "<Figure size 432x288 with 1 Axes>"
      ]
     },
     "metadata": {
      "needs_background": "light"
     },
     "output_type": "display_data"
    }
   ],
   "source": [
    "get_error_plot(n_trees, train_errors, test_errors)"
   ]
  },
  {
   "cell_type": "markdown",
   "metadata": {
    "id": "NOM9bowjbsiy"
   },
   "source": [
    "Видим, что качество обучения улучшается."
   ]
  },
  {
   "cell_type": "markdown",
   "metadata": {
    "id": "OCU1ZgSxbsi0"
   },
   "source": [
    "Уменьшим шаг до 0.01."
   ]
  },
  {
   "cell_type": "code",
   "execution_count": 65,
   "metadata": {
    "id": "QvDpXS-Ybsi1"
   },
   "outputs": [
    {
     "name": "stdout",
     "output_type": "stream",
     "text": [
      "CPU times: user 3min 17s, sys: 164 ms, total: 3min 17s\n",
      "Wall time: 3min 17s\n"
     ]
    }
   ],
   "source": [
    "%%time\n",
    "eta = 0.01\n",
    "\n",
    "trees, train_errors, test_errors = gb_fit(n_trees, max_depth, X_train, X_test, y_train, y_test, eta)"
   ]
  },
  {
   "cell_type": "code",
   "execution_count": 66,
   "metadata": {
    "id": "l7l4ckNubsi4"
   },
   "outputs": [
    {
     "name": "stdout",
     "output_type": "stream",
     "text": [
      "Ошибка алгоритма из 50 деревьев глубиной 3     с шагом 0.01 на тренировочной выборке: 12801.091549463747\n",
      "Ошибка алгоритма из 50 деревьев глубиной 3     с шагом 0.01 на тестовой выборке: 11578.276199882108\n"
     ]
    }
   ],
   "source": [
    "evaluate_alg(X_train, X_test, y_train, y_test, trees, eta)"
   ]
  },
  {
   "cell_type": "code",
   "execution_count": 67,
   "metadata": {
    "id": "L0dPsV_9bsi5"
   },
   "outputs": [
    {
     "data": {
      "image/png": "[encoded data removed]",
      "text/plain": [
       "<Figure size 432x288 with 1 Axes>"
      ]
     },
     "metadata": {
      "needs_background": "light"
     },
     "output_type": "display_data"
    }
   ],
   "source": [
    "get_error_plot(n_trees, train_errors, test_errors)"
   ]
  },
  {
   "cell_type": "markdown",
   "metadata": {
    "id": "YTHcPMYhbsi7"
   },
   "source": [
    "При таком размере шага алгоритм сходится, но ему для достижения удовлетворительных показателей требуется большее количество итераций."
   ]
  },
  {
   "cell_type": "markdown",
   "metadata": {
    "id": "CoXzz4Fhbsi8"
   },
   "source": [
    "Вернемся к шагу 0.1 и попробуем увеличить глубину деревьев"
   ]
  },
  {
   "cell_type": "code",
   "execution_count": 44,
   "metadata": {
    "id": "hvLCSptsbsi8"
   },
   "outputs": [
    {
     "name": "stdout",
     "output_type": "stream",
     "text": [
      "CPU times: user 7min 11s, sys: 256 ms, total: 7min 12s\n",
      "Wall time: 7min 13s\n"
     ]
    }
   ],
   "source": [
    "%%time\n",
    "eta = 0.1\n",
    "max_depth = 5\n",
    "\n",
    "trees, train_errors, test_errors = gb_fit(n_trees, max_depth, X_train, X_test, y_train, y_test, eta)"
   ]
  },
  {
   "cell_type": "code",
   "execution_count": 45,
   "metadata": {
    "id": "H493-X9Cbsi-"
   },
   "outputs": [
    {
     "name": "stdout",
     "output_type": "stream",
     "text": [
      "Ошибка алгоритма из 100 деревьев глубиной 5     с шагом 0.1 на тренировочной выборке: 75.58799004984678\n",
      "Ошибка алгоритма из 100 деревьев глубиной 5     с шагом 0.1 на тестовой выборке: 2848.374512516672\n"
     ]
    }
   ],
   "source": [
    "evaluate_alg(X_train, X_test, y_train, y_test, trees, eta)"
   ]
  },
  {
   "cell_type": "code",
   "execution_count": 46,
   "metadata": {
    "id": "1ZGS4hIMbsjB"
   },
   "outputs": [
    {
     "data": {
      "image/png": "[encoded data removed]",
      "text/plain": [
       "<Figure size 432x288 with 1 Axes>"
      ]
     },
     "metadata": {
      "needs_background": "light"
     },
     "output_type": "display_data"
    }
   ],
   "source": [
    "get_error_plot(n_trees, train_errors, test_errors)"
   ]
  },
  {
   "cell_type": "markdown",
   "metadata": {
    "id": "IpD13qpubsjH"
   },
   "source": [
    "Ошибка на обучающей выборке упала, а на тестовой несколько поднялась, то есть в данном случае можем говорить о появлении переобучения."
   ]
  },
  {
   "cell_type": "markdown",
   "metadata": {
    "id": "gjcLXlvZbsjI"
   },
   "source": [
    "В целом, тут мы показали, что варьируя параметры обучения градиентного бустинга можно добиваться различного уровня точности модели."
   ]
  },
  {
   "cell_type": "markdown",
   "metadata": {
    "id": "Gn6K3xoIbsjJ"
   },
   "source": [
    "Существуют различные реализации градиентного бустинга, и одна из самых популярных и широко используемых - XGBoost (в Python содержится в библиотеке с аналогичным названием). С этой реализацией можно ознакомиться в дополнительных материалах."
   ]
  },
  {
   "cell_type": "markdown",
   "metadata": {
    "id": "Z2tMUhhXbsjK"
   },
   "source": [
    "## AdaBoost<a class='anchor' id='ada'>\n",
    "[Видео](https://www.youtube.com/watch?v=LsK-xG1cLYA) с подробным объяснением алгоритма"
   ]
  },
  {
   "cell_type": "markdown",
   "metadata": {
    "id": "b-P-YoMabsjL"
   },
   "source": [
    "Для задачи бинарной классификации он заключается в использовании слабых классификаторов (например, деревьев глубиной 1 - так называемых \"пней\") в цикле, с придаванием объектам весов. После каждого шага итерации, когда разделяющая плоскость классификатора делит пространство объектов на две части, веса объектов перераспределяются, и веса неправильно классифицированных объектов увеличиваются, чтобы на следующей итерации классификатор акцентировался на этих объектах. Классификатору также присваивается вес в зависимости от его точности. Затем полученные деревья с весами объединяются в один сильный классификатор. В этом и заключается адаптивность алгоритма. Алгоритм AdaBoost также называют алгоритмом усиления классификаторов."
   ]
  },
  {
   "cell_type": "markdown",
   "metadata": {},
   "source": [
    "**Продемонстрируем работу AdaBoost**"
   ]
  },
  {
   "cell_type": "code",
   "execution_count": 26,
   "metadata": {
    "id": "AMMYdEpSbsjM"
   },
   "outputs": [],
   "source": [
    "from sklearn.tree import DecisionTreeClassifier, plot_tree\n",
    "from sklearn.datasets import load_breast_cancer"
   ]
  },
  {
   "cell_type": "code",
   "execution_count": 27,
   "metadata": {
    "id": "2cQW-bglbsjP"
   },
   "outputs": [
    {
     "data": {
      "text/plain": [
       "((569, 30), (569,))"
      ]
     },
     "execution_count": 27,
     "metadata": {},
     "output_type": "execute_result"
    }
   ],
   "source": [
    "X, y = load_breast_cancer(return_X_y=True, as_frame=True)\n",
    "X.shape, y.shape"
   ]
  },
  {
   "cell_type": "code",
   "execution_count": 28,
   "metadata": {},
   "outputs": [],
   "source": [
    "np.random.seed(6)\n",
    "index = np.random.randint(0, X.shape[0], 1)\n",
    "X_test = X.loc[index]\n",
    "y_test = y.loc[index]"
   ]
  },
  {
   "cell_type": "code",
   "execution_count": 29,
   "metadata": {},
   "outputs": [
    {
     "data": {
      "text/plain": [
       "Index(['mean radius', 'mean texture', 'mean perimeter', 'mean area',\n",
       "       'mean smoothness', 'mean compactness', 'mean concavity',\n",
       "       'mean concave points', 'mean symmetry', 'mean fractal dimension',\n",
       "       'radius error', 'texture error', 'perimeter error', 'area error',\n",
       "       'smoothness error', 'compactness error', 'concavity error',\n",
       "       'concave points error', 'symmetry error', 'fractal dimension error',\n",
       "       'worst radius', 'worst texture', 'worst perimeter', 'worst area',\n",
       "       'worst smoothness', 'worst compactness', 'worst concavity',\n",
       "       'worst concave points', 'worst symmetry', 'worst fractal dimension'],\n",
       "      dtype='object')"
      ]
     },
     "execution_count": 29,
     "metadata": {},
     "output_type": "execute_result"
    }
   ],
   "source": [
    "X.columns"
   ]
  },
  {
   "cell_type": "code",
   "execution_count": 30,
   "metadata": {},
   "outputs": [
    {
     "data": {
      "text/html": [
       "<div>\n",
       "<style scoped>\n",
       "    .dataframe tbody tr th:only-of-type {\n",
       "        vertical-align: middle;\n",
       "    }\n",
       "\n",
       "    .dataframe tbody tr th {\n",
       "        vertical-align: top;\n",
       "    }\n",
       "\n",
       "    .dataframe thead th {\n",
       "        text-align: right;\n",
       "    }\n",
       "</style>\n",
       "<table border=\"1\" class=\"dataframe\">\n",
       "  <thead>\n",
       "    <tr style=\"text-align: right;\">\n",
       "      <th></th>\n",
       "      <th>mean radius</th>\n",
       "      <th>mean texture</th>\n",
       "      <th>mean perimeter</th>\n",
       "      <th>mean area</th>\n",
       "      <th>mean smoothness</th>\n",
       "      <th>mean compactness</th>\n",
       "      <th>mean concavity</th>\n",
       "      <th>mean concave points</th>\n",
       "      <th>mean symmetry</th>\n",
       "      <th>mean fractal dimension</th>\n",
       "      <th>...</th>\n",
       "      <th>worst radius</th>\n",
       "      <th>worst texture</th>\n",
       "      <th>worst perimeter</th>\n",
       "      <th>worst area</th>\n",
       "      <th>worst smoothness</th>\n",
       "      <th>worst compactness</th>\n",
       "      <th>worst concavity</th>\n",
       "      <th>worst concave points</th>\n",
       "      <th>worst symmetry</th>\n",
       "      <th>worst fractal dimension</th>\n",
       "    </tr>\n",
       "  </thead>\n",
       "  <tbody>\n",
       "    <tr>\n",
       "      <th>41</th>\n",
       "      <td>10.95</td>\n",
       "      <td>21.35</td>\n",
       "      <td>71.90</td>\n",
       "      <td>371.1</td>\n",
       "      <td>0.12270</td>\n",
       "      <td>0.12180</td>\n",
       "      <td>0.10440</td>\n",
       "      <td>0.05669</td>\n",
       "      <td>0.1895</td>\n",
       "      <td>0.06870</td>\n",
       "      <td>...</td>\n",
       "      <td>12.84</td>\n",
       "      <td>35.34</td>\n",
       "      <td>87.22</td>\n",
       "      <td>514.0</td>\n",
       "      <td>0.19090</td>\n",
       "      <td>0.26980</td>\n",
       "      <td>0.4023</td>\n",
       "      <td>0.14240</td>\n",
       "      <td>0.2964</td>\n",
       "      <td>0.09606</td>\n",
       "    </tr>\n",
       "    <tr>\n",
       "      <th>44</th>\n",
       "      <td>13.17</td>\n",
       "      <td>21.81</td>\n",
       "      <td>85.42</td>\n",
       "      <td>531.5</td>\n",
       "      <td>0.09714</td>\n",
       "      <td>0.10470</td>\n",
       "      <td>0.08259</td>\n",
       "      <td>0.05252</td>\n",
       "      <td>0.1746</td>\n",
       "      <td>0.06177</td>\n",
       "      <td>...</td>\n",
       "      <td>16.23</td>\n",
       "      <td>29.89</td>\n",
       "      <td>105.50</td>\n",
       "      <td>740.7</td>\n",
       "      <td>0.15030</td>\n",
       "      <td>0.39040</td>\n",
       "      <td>0.3728</td>\n",
       "      <td>0.16070</td>\n",
       "      <td>0.3693</td>\n",
       "      <td>0.09618</td>\n",
       "    </tr>\n",
       "    <tr>\n",
       "      <th>73</th>\n",
       "      <td>13.80</td>\n",
       "      <td>15.79</td>\n",
       "      <td>90.43</td>\n",
       "      <td>584.1</td>\n",
       "      <td>0.10070</td>\n",
       "      <td>0.12800</td>\n",
       "      <td>0.07789</td>\n",
       "      <td>0.05069</td>\n",
       "      <td>0.1662</td>\n",
       "      <td>0.06566</td>\n",
       "      <td>...</td>\n",
       "      <td>16.57</td>\n",
       "      <td>20.86</td>\n",
       "      <td>110.30</td>\n",
       "      <td>812.4</td>\n",
       "      <td>0.14110</td>\n",
       "      <td>0.35420</td>\n",
       "      <td>0.2779</td>\n",
       "      <td>0.13830</td>\n",
       "      <td>0.2589</td>\n",
       "      <td>0.10300</td>\n",
       "    </tr>\n",
       "    <tr>\n",
       "      <th>81</th>\n",
       "      <td>13.34</td>\n",
       "      <td>15.86</td>\n",
       "      <td>86.49</td>\n",
       "      <td>520.0</td>\n",
       "      <td>0.10780</td>\n",
       "      <td>0.15350</td>\n",
       "      <td>0.11690</td>\n",
       "      <td>0.06987</td>\n",
       "      <td>0.1942</td>\n",
       "      <td>0.06902</td>\n",
       "      <td>...</td>\n",
       "      <td>15.53</td>\n",
       "      <td>23.19</td>\n",
       "      <td>96.66</td>\n",
       "      <td>614.9</td>\n",
       "      <td>0.15360</td>\n",
       "      <td>0.47910</td>\n",
       "      <td>0.4858</td>\n",
       "      <td>0.17080</td>\n",
       "      <td>0.3527</td>\n",
       "      <td>0.10160</td>\n",
       "    </tr>\n",
       "    <tr>\n",
       "      <th>89</th>\n",
       "      <td>14.64</td>\n",
       "      <td>15.24</td>\n",
       "      <td>95.77</td>\n",
       "      <td>651.9</td>\n",
       "      <td>0.11320</td>\n",
       "      <td>0.13390</td>\n",
       "      <td>0.09966</td>\n",
       "      <td>0.07064</td>\n",
       "      <td>0.2116</td>\n",
       "      <td>0.06346</td>\n",
       "      <td>...</td>\n",
       "      <td>16.34</td>\n",
       "      <td>18.24</td>\n",
       "      <td>109.40</td>\n",
       "      <td>803.6</td>\n",
       "      <td>0.12770</td>\n",
       "      <td>0.30890</td>\n",
       "      <td>0.2604</td>\n",
       "      <td>0.13970</td>\n",
       "      <td>0.3151</td>\n",
       "      <td>0.08473</td>\n",
       "    </tr>\n",
       "    <tr>\n",
       "      <th>91</th>\n",
       "      <td>15.37</td>\n",
       "      <td>22.76</td>\n",
       "      <td>100.20</td>\n",
       "      <td>728.2</td>\n",
       "      <td>0.09200</td>\n",
       "      <td>0.10360</td>\n",
       "      <td>0.11220</td>\n",
       "      <td>0.07483</td>\n",
       "      <td>0.1717</td>\n",
       "      <td>0.06097</td>\n",
       "      <td>...</td>\n",
       "      <td>16.43</td>\n",
       "      <td>25.84</td>\n",
       "      <td>107.50</td>\n",
       "      <td>830.9</td>\n",
       "      <td>0.12570</td>\n",
       "      <td>0.19970</td>\n",
       "      <td>0.2846</td>\n",
       "      <td>0.14760</td>\n",
       "      <td>0.2556</td>\n",
       "      <td>0.06828</td>\n",
       "    </tr>\n",
       "    <tr>\n",
       "      <th>135</th>\n",
       "      <td>12.77</td>\n",
       "      <td>22.47</td>\n",
       "      <td>81.72</td>\n",
       "      <td>506.3</td>\n",
       "      <td>0.09055</td>\n",
       "      <td>0.05761</td>\n",
       "      <td>0.04711</td>\n",
       "      <td>0.02704</td>\n",
       "      <td>0.1585</td>\n",
       "      <td>0.06065</td>\n",
       "      <td>...</td>\n",
       "      <td>14.49</td>\n",
       "      <td>33.37</td>\n",
       "      <td>92.04</td>\n",
       "      <td>653.6</td>\n",
       "      <td>0.14190</td>\n",
       "      <td>0.15230</td>\n",
       "      <td>0.2177</td>\n",
       "      <td>0.09331</td>\n",
       "      <td>0.2829</td>\n",
       "      <td>0.08067</td>\n",
       "    </tr>\n",
       "    <tr>\n",
       "      <th>146</th>\n",
       "      <td>11.80</td>\n",
       "      <td>16.58</td>\n",
       "      <td>78.99</td>\n",
       "      <td>432.0</td>\n",
       "      <td>0.10910</td>\n",
       "      <td>0.17000</td>\n",
       "      <td>0.16590</td>\n",
       "      <td>0.07415</td>\n",
       "      <td>0.2678</td>\n",
       "      <td>0.07371</td>\n",
       "      <td>...</td>\n",
       "      <td>13.74</td>\n",
       "      <td>26.38</td>\n",
       "      <td>91.93</td>\n",
       "      <td>591.7</td>\n",
       "      <td>0.13850</td>\n",
       "      <td>0.40920</td>\n",
       "      <td>0.4504</td>\n",
       "      <td>0.18650</td>\n",
       "      <td>0.5774</td>\n",
       "      <td>0.10300</td>\n",
       "    </tr>\n",
       "    <tr>\n",
       "      <th>484</th>\n",
       "      <td>15.73</td>\n",
       "      <td>11.28</td>\n",
       "      <td>102.80</td>\n",
       "      <td>747.2</td>\n",
       "      <td>0.10430</td>\n",
       "      <td>0.12990</td>\n",
       "      <td>0.11910</td>\n",
       "      <td>0.06211</td>\n",
       "      <td>0.1784</td>\n",
       "      <td>0.06259</td>\n",
       "      <td>...</td>\n",
       "      <td>17.01</td>\n",
       "      <td>14.20</td>\n",
       "      <td>112.50</td>\n",
       "      <td>854.3</td>\n",
       "      <td>0.15410</td>\n",
       "      <td>0.29790</td>\n",
       "      <td>0.4004</td>\n",
       "      <td>0.14520</td>\n",
       "      <td>0.2557</td>\n",
       "      <td>0.08181</td>\n",
       "    </tr>\n",
       "    <tr>\n",
       "      <th>491</th>\n",
       "      <td>17.85</td>\n",
       "      <td>13.23</td>\n",
       "      <td>114.60</td>\n",
       "      <td>992.1</td>\n",
       "      <td>0.07838</td>\n",
       "      <td>0.06217</td>\n",
       "      <td>0.04445</td>\n",
       "      <td>0.04178</td>\n",
       "      <td>0.1220</td>\n",
       "      <td>0.05243</td>\n",
       "      <td>...</td>\n",
       "      <td>19.82</td>\n",
       "      <td>18.42</td>\n",
       "      <td>127.10</td>\n",
       "      <td>1210.0</td>\n",
       "      <td>0.09862</td>\n",
       "      <td>0.09976</td>\n",
       "      <td>0.1048</td>\n",
       "      <td>0.08341</td>\n",
       "      <td>0.1783</td>\n",
       "      <td>0.05871</td>\n",
       "    </tr>\n",
       "  </tbody>\n",
       "</table>\n",
       "<p>10 rows × 30 columns</p>\n",
       "</div>"
      ],
      "text/plain": [
       "     mean radius  mean texture  mean perimeter  mean area  mean smoothness  \\\n",
       "41         10.95         21.35           71.90      371.1          0.12270   \n",
       "44         13.17         21.81           85.42      531.5          0.09714   \n",
       "73         13.80         15.79           90.43      584.1          0.10070   \n",
       "81         13.34         15.86           86.49      520.0          0.10780   \n",
       "89         14.64         15.24           95.77      651.9          0.11320   \n",
       "91         15.37         22.76          100.20      728.2          0.09200   \n",
       "135        12.77         22.47           81.72      506.3          0.09055   \n",
       "146        11.80         16.58           78.99      432.0          0.10910   \n",
       "484        15.73         11.28          102.80      747.2          0.10430   \n",
       "491        17.85         13.23          114.60      992.1          0.07838   \n",
       "\n",
       "     mean compactness  mean concavity  mean concave points  mean symmetry  \\\n",
       "41            0.12180         0.10440              0.05669         0.1895   \n",
       "44            0.10470         0.08259              0.05252         0.1746   \n",
       "73            0.12800         0.07789              0.05069         0.1662   \n",
       "81            0.15350         0.11690              0.06987         0.1942   \n",
       "89            0.13390         0.09966              0.07064         0.2116   \n",
       "91            0.10360         0.11220              0.07483         0.1717   \n",
       "135           0.05761         0.04711              0.02704         0.1585   \n",
       "146           0.17000         0.16590              0.07415         0.2678   \n",
       "484           0.12990         0.11910              0.06211         0.1784   \n",
       "491           0.06217         0.04445              0.04178         0.1220   \n",
       "\n",
       "     mean fractal dimension  ...  worst radius  worst texture  \\\n",
       "41                  0.06870  ...         12.84          35.34   \n",
       "44                  0.06177  ...         16.23          29.89   \n",
       "73                  0.06566  ...         16.57          20.86   \n",
       "81                  0.06902  ...         15.53          23.19   \n",
       "89                  0.06346  ...         16.34          18.24   \n",
       "91                  0.06097  ...         16.43          25.84   \n",
       "135                 0.06065  ...         14.49          33.37   \n",
       "146                 0.07371  ...         13.74          26.38   \n",
       "484                 0.06259  ...         17.01          14.20   \n",
       "491                 0.05243  ...         19.82          18.42   \n",
       "\n",
       "     worst perimeter  worst area  worst smoothness  worst compactness  \\\n",
       "41             87.22       514.0           0.19090            0.26980   \n",
       "44            105.50       740.7           0.15030            0.39040   \n",
       "73            110.30       812.4           0.14110            0.35420   \n",
       "81             96.66       614.9           0.15360            0.47910   \n",
       "89            109.40       803.6           0.12770            0.30890   \n",
       "91            107.50       830.9           0.12570            0.19970   \n",
       "135            92.04       653.6           0.14190            0.15230   \n",
       "146            91.93       591.7           0.13850            0.40920   \n",
       "484           112.50       854.3           0.15410            0.29790   \n",
       "491           127.10      1210.0           0.09862            0.09976   \n",
       "\n",
       "     worst concavity  worst concave points  worst symmetry  \\\n",
       "41            0.4023               0.14240          0.2964   \n",
       "44            0.3728               0.16070          0.3693   \n",
       "73            0.2779               0.13830          0.2589   \n",
       "81            0.4858               0.17080          0.3527   \n",
       "89            0.2604               0.13970          0.3151   \n",
       "91            0.2846               0.14760          0.2556   \n",
       "135           0.2177               0.09331          0.2829   \n",
       "146           0.4504               0.18650          0.5774   \n",
       "484           0.4004               0.14520          0.2557   \n",
       "491           0.1048               0.08341          0.1783   \n",
       "\n",
       "     worst fractal dimension  \n",
       "41                   0.09606  \n",
       "44                   0.09618  \n",
       "73                   0.10300  \n",
       "81                   0.10160  \n",
       "89                   0.08473  \n",
       "91                   0.06828  \n",
       "135                  0.08067  \n",
       "146                  0.10300  \n",
       "484                  0.08181  \n",
       "491                  0.05871  \n",
       "\n",
       "[10 rows x 30 columns]"
      ]
     },
     "execution_count": 30,
     "metadata": {},
     "output_type": "execute_result"
    }
   ],
   "source": [
    "X = X.loc[[ 41,  44,  73,  81,  89,  91, 135, 146, 484, 491]]\n",
    "y = y.loc[[ 41,  44,  73,  81,  89,  91, 135, 146, 484, 491]]\n",
    "X"
   ]
  },
  {
   "cell_type": "code",
   "execution_count": 31,
   "metadata": {},
   "outputs": [
    {
     "data": {
      "text/plain": [
       "41     0\n",
       "44     0\n",
       "73     0\n",
       "81     1\n",
       "89     1\n",
       "91     0\n",
       "135    0\n",
       "146    0\n",
       "484    1\n",
       "491    1\n",
       "Name: target, dtype: int64"
      ]
     },
     "execution_count": 31,
     "metadata": {},
     "output_type": "execute_result"
    }
   ],
   "source": [
    "y"
   ]
  },
  {
   "cell_type": "markdown",
   "metadata": {},
   "source": [
    "__1.__ Инициализация начальных весов объектов из выборки длиной $l$:\n",
    "\n",
    "$$D_{1}(i) = \\frac{1}{l}$$"
   ]
  },
  {
   "cell_type": "code",
   "execution_count": 32,
   "metadata": {},
   "outputs": [
    {
     "data": {
      "text/plain": [
       "array([0.1, 0.1, 0.1, 0.1, 0.1, 0.1, 0.1, 0.1, 0.1, 0.1])"
      ]
     },
     "execution_count": 32,
     "metadata": {},
     "output_type": "execute_result"
    }
   ],
   "source": [
    "n_objects = X.shape[0]\n",
    "w = np.ones(n_objects) / n_objects\n",
    "w"
   ]
  },
  {
   "cell_type": "markdown",
   "metadata": {
    "id": "0X9EilDubsjL"
   },
   "source": [
    "__2.__ Для каждого из $N$ деревьев в ансамбле:\n",
    "\n",
    "- находим классификатор $b_{n}$, который минимизирует взвешенную ошибку классификации\n",
    "\n",
    "$$b_{n} = \\underset{b}{\\text{argmin}}\\;\\varepsilon_{j},$$\n",
    "\n",
    "    где \n",
    "\n",
    "$$\\varepsilon_{j} = \\sum_{i=1}^{l}D_{n}(i)[y_{i}\\neq b_{j}(x)]$$"
   ]
  },
  {
   "cell_type": "code",
   "execution_count": 33,
   "metadata": {},
   "outputs": [
    {
     "data": {
      "image/png": "[encoded data removed]",
      "text/plain": [
       "<Figure size 432x288 with 1 Axes>"
      ]
     },
     "metadata": {
      "needs_background": "light"
     },
     "output_type": "display_data"
    }
   ],
   "source": [
    "stump1 = DecisionTreeClassifier(max_depth=1, random_state=1)\n",
    "stump1.fit(X, y, sample_weight=w)\n",
    "\n",
    "pred = stump1.predict(X)\n",
    "plot_tree(stump1, feature_names=X.columns);"
   ]
  },
  {
   "cell_type": "code",
   "execution_count": 34,
   "metadata": {},
   "outputs": [
    {
     "data": {
      "text/plain": [
       "41      True\n",
       "44      True\n",
       "73     False\n",
       "81      True\n",
       "89      True\n",
       "91      True\n",
       "135     True\n",
       "146     True\n",
       "484     True\n",
       "491     True\n",
       "Name: target, dtype: bool"
      ]
     },
     "execution_count": 34,
     "metadata": {},
     "output_type": "execute_result"
    }
   ],
   "source": [
    "pred == y"
   ]
  },
  {
   "cell_type": "code",
   "execution_count": 36,
   "metadata": {},
   "outputs": [
    {
     "data": {
      "text/plain": [
       "0.1"
      ]
     },
     "execution_count": 36,
     "metadata": {},
     "output_type": "execute_result"
    }
   ],
   "source": [
    "error1 = sum(pred != y) / len(y)\n",
    "error1"
   ]
  },
  {
   "cell_type": "markdown",
   "metadata": {},
   "source": [
    "- критерием остановки является значение $\\varepsilon_{j} \\geq 0.5$. При таком значении ошибки нужно выбрать другой классификатор и продолжить.\n",
    "\n",
    "- выбираем вес для дерева $\\alpha_{n}$ по формуле\n",
    "\n",
    "$$\\alpha_{n} = \\frac{1}{2}\\text{ln}\\frac{1 - \\varepsilon_{n}}{\\varepsilon_{n}}$$\n"
   ]
  },
  {
   "cell_type": "code",
   "execution_count": 32,
   "metadata": {},
   "outputs": [],
   "source": [
    "def amount_of_say(x):\n",
    "    return 1/2 * np.log((1 - x) / x)"
   ]
  },
  {
   "cell_type": "code",
   "execution_count": 33,
   "metadata": {},
   "outputs": [
    {
     "name": "stderr",
     "output_type": "stream",
     "text": [
      "/home/julia/PycharmProjects/Study/SocketLab/venv/lib/python3.6/site-packages/ipykernel_launcher.py:2: RuntimeWarning: divide by zero encountered in double_scalars\n",
      "  \n",
      "/home/julia/PycharmProjects/Study/SocketLab/venv/lib/python3.6/site-packages/ipykernel_launcher.py:2: RuntimeWarning: divide by zero encountered in log\n",
      "  \n"
     ]
    },
    {
     "data": {
      "image/png": "[encoded data removed]",
      "text/plain": [
       "<Figure size 432x288 with 1 Axes>"
      ]
     },
     "metadata": {
      "needs_background": "light"
     },
     "output_type": "display_data"
    }
   ],
   "source": [
    "dots = np.linspace(0, 1, 1000)\n",
    "amount_of_say_value = list(map(amount_of_say, dots))\n",
    "\n",
    "plt.xlabel('error')\n",
    "plt.ylabel('amount_of_say(error)')\n",
    "plt.grid()\n",
    "plt.plot(dots, amount_of_say_value);"
   ]
  },
  {
   "cell_type": "markdown",
   "metadata": {},
   "source": [
    "**Получим вес для пня**"
   ]
  },
  {
   "cell_type": "code",
   "execution_count": 37,
   "metadata": {},
   "outputs": [
    {
     "data": {
      "text/plain": [
       "1.0986122886681098"
      ]
     },
     "execution_count": 37,
     "metadata": {},
     "output_type": "execute_result"
    }
   ],
   "source": [
    "alpha1 = 1/2 * np.log((1 - error1) / error1)\n",
    "alpha1"
   ]
  },
  {
   "cell_type": "markdown",
   "metadata": {},
   "source": [
    "- обновляем веса при объектах:\n",
    "$$D_i = D_{i-1}e^{\\alpha_i} - \\text{изменение веса одного объекта при неверной классификации} $$"
   ]
  },
  {
   "cell_type": "code",
   "execution_count": 38,
   "metadata": {},
   "outputs": [],
   "source": [
    "def new_sample_weight(x):\n",
    "    return np.exp(x)"
   ]
  },
  {
   "cell_type": "code",
   "execution_count": 42,
   "metadata": {},
   "outputs": [
    {
     "data": {
      "text/plain": [
       "0.16487212707001284"
      ]
     },
     "execution_count": 42,
     "metadata": {},
     "output_type": "execute_result"
    }
   ],
   "source": [
    "0.1 * np.exp(0.5)"
   ]
  },
  {
   "cell_type": "code",
   "execution_count": 40,
   "metadata": {},
   "outputs": [
    {
     "data": {
      "image/png": "[encoded data removed]",
      "text/plain": [
       "<Figure size 432x288 with 1 Axes>"
      ]
     },
     "metadata": {
      "needs_background": "light"
     },
     "output_type": "display_data"
    }
   ],
   "source": [
    "dots = np.linspace(0, 3.5, 1000)\n",
    "new_sample_weight_value = list(map(new_sample_weight, dots))\n",
    "\n",
    "plt.xlabel('amount of say')\n",
    "plt.ylabel('new_sample_weight')\n",
    "plt.grid()\n",
    "plt.plot(dots, new_sample_weight_value);"
   ]
  },
  {
   "cell_type": "markdown",
   "metadata": {},
   "source": [
    "Если пень сделал не очень хорошую классификацию, то вес объекта станет немного больше, если пень сделал хорошую классификацию, то вес объекта станет больше."
   ]
  },
  {
   "cell_type": "markdown",
   "metadata": {},
   "source": [
    "**Меняем вес неверное классифицированного объекта**"
   ]
  },
  {
   "cell_type": "code",
   "execution_count": 43,
   "metadata": {},
   "outputs": [
    {
     "data": {
      "text/plain": [
       "array([0.1, 0.1, 0.3, 0.1, 0.1, 0.1, 0.1, 0.1, 0.1, 0.1])"
      ]
     },
     "execution_count": 43,
     "metadata": {},
     "output_type": "execute_result"
    }
   ],
   "source": [
    "wrong_mask = pred != y\n",
    "w[wrong_mask] = w[wrong_mask] * np.exp(alpha1)\n",
    "w"
   ]
  },
  {
   "cell_type": "markdown",
   "metadata": {},
   "source": [
    "$$D_i = D_{i-1}e^{-\\alpha_i} - \\text{изменение веса одного объекта при верной классификации} $$"
   ]
  },
  {
   "cell_type": "code",
   "execution_count": 44,
   "metadata": {},
   "outputs": [],
   "source": [
    "def new_sample_weight(x):\n",
    "    return np.exp(-x)"
   ]
  },
  {
   "cell_type": "code",
   "execution_count": 49,
   "metadata": {},
   "outputs": [
    {
     "data": {
      "text/plain": [
       "0.06065306597126335"
      ]
     },
     "execution_count": 49,
     "metadata": {},
     "output_type": "execute_result"
    }
   ],
   "source": [
    "0.1 * np.exp(-0.5)"
   ]
  },
  {
   "cell_type": "code",
   "execution_count": 46,
   "metadata": {},
   "outputs": [
    {
     "data": {
      "image/png": "[encoded data removed]",
      "text/plain": [
       "<Figure size 432x288 with 1 Axes>"
      ]
     },
     "metadata": {
      "needs_background": "light"
     },
     "output_type": "display_data"
    }
   ],
   "source": [
    "dots = np.linspace(0, 3.5, 1000)\n",
    "new_sample_weight_value = list(map(new_sample_weight, dots))\n",
    "\n",
    "plt.xlabel('amount of say')\n",
    "plt.ylabel('new_sample_weight')\n",
    "plt.grid()\n",
    "plt.plot(dots, new_sample_weight_value);"
   ]
  },
  {
   "cell_type": "markdown",
   "metadata": {},
   "source": [
    "Если пень сделал не очень хорошую классификацию, то вес объекта станет меньше, если пень сделал хорошую классификацию, то вес объекта станет немного меньше.\n",
    "\n",
    "То есть, те объекты, которые хорошо классифицируются будут иметь меньший вес, чем те, на которых классификатор ошибается."
   ]
  },
  {
   "cell_type": "markdown",
   "metadata": {},
   "source": [
    "**Меняем веса верно классифицированных объектов**"
   ]
  },
  {
   "cell_type": "code",
   "execution_count": 50,
   "metadata": {},
   "outputs": [
    {
     "data": {
      "text/plain": [
       "array([0.03333333, 0.03333333, 0.3       , 0.03333333, 0.03333333,\n",
       "       0.03333333, 0.03333333, 0.03333333, 0.03333333, 0.03333333])"
      ]
     },
     "execution_count": 50,
     "metadata": {},
     "output_type": "execute_result"
    }
   ],
   "source": [
    "w[~wrong_mask] = w[~wrong_mask] * np.exp(-alpha1)\n",
    "w"
   ]
  },
  {
   "cell_type": "code",
   "execution_count": 51,
   "metadata": {},
   "outputs": [
    {
     "data": {
      "text/plain": [
       "0.6"
      ]
     },
     "execution_count": 51,
     "metadata": {},
     "output_type": "execute_result"
    }
   ],
   "source": [
    "sum(w)"
   ]
  },
  {
   "cell_type": "code",
   "execution_count": 52,
   "metadata": {},
   "outputs": [],
   "source": [
    "w /= sum(w)"
   ]
  },
  {
   "cell_type": "code",
   "execution_count": 53,
   "metadata": {},
   "outputs": [
    {
     "data": {
      "text/plain": [
       "array([0.05555556, 0.05555556, 0.5       , 0.05555556, 0.05555556,\n",
       "       0.05555556, 0.05555556, 0.05555556, 0.05555556, 0.05555556])"
      ]
     },
     "execution_count": 53,
     "metadata": {},
     "output_type": "execute_result"
    }
   ],
   "source": [
    "w"
   ]
  },
  {
   "cell_type": "code",
   "execution_count": 54,
   "metadata": {},
   "outputs": [
    {
     "data": {
      "text/plain": [
       "1.0000000000000002"
      ]
     },
     "execution_count": 54,
     "metadata": {},
     "output_type": "execute_result"
    }
   ],
   "source": [
    "sum(w)"
   ]
  },
  {
   "cell_type": "markdown",
   "metadata": {},
   "source": [
    "**Обучим следующий пень**"
   ]
  },
  {
   "cell_type": "code",
   "execution_count": 57,
   "metadata": {},
   "outputs": [
    {
     "data": {
      "image/png": "[encoded data removed]",
      "text/plain": [
       "<Figure size 432x288 with 1 Axes>"
      ]
     },
     "metadata": {
      "needs_background": "light"
     },
     "output_type": "display_data"
    }
   ],
   "source": [
    "stump2 = DecisionTreeClassifier(max_depth=1, random_state=1)\n",
    "stump2.fit(X, y, sample_weight=w)\n",
    "\n",
    "pred = stump2.predict(X)\n",
    "plot_tree(stump2, feature_names=X.columns);"
   ]
  },
  {
   "cell_type": "code",
   "execution_count": 58,
   "metadata": {},
   "outputs": [
    {
     "data": {
      "text/plain": [
       "41     False\n",
       "44     False\n",
       "73     False\n",
       "81      True\n",
       "89     False\n",
       "91     False\n",
       "135    False\n",
       "146    False\n",
       "484    False\n",
       "491    False\n",
       "Name: target, dtype: bool"
      ]
     },
     "execution_count": 58,
     "metadata": {},
     "output_type": "execute_result"
    }
   ],
   "source": [
    "pred != y"
   ]
  },
  {
   "cell_type": "code",
   "execution_count": 59,
   "metadata": {},
   "outputs": [
    {
     "data": {
      "text/plain": [
       "array([0.03846154, 0.03846154, 0.34615385, 0.34615385, 0.03846154,\n",
       "       0.03846154, 0.03846154, 0.03846154, 0.03846154, 0.03846154])"
      ]
     },
     "execution_count": 59,
     "metadata": {},
     "output_type": "execute_result"
    }
   ],
   "source": [
    "error2 = sum(pred != y) / len(y)\n",
    "alpha2 = 1/2 * np.log((1 - error2) / error2)\n",
    "\n",
    "wrong_mask = pred != y\n",
    "w[wrong_mask] = w[wrong_mask] * np.exp(alpha2)\n",
    "\n",
    "w[~wrong_mask] = w[~wrong_mask] * np.exp(-alpha2)\n",
    "w /= sum(w)\n",
    "w"
   ]
  },
  {
   "cell_type": "markdown",
   "metadata": {},
   "source": [
    "**Обучим следующий пень**"
   ]
  },
  {
   "cell_type": "code",
   "execution_count": 60,
   "metadata": {},
   "outputs": [
    {
     "data": {
      "text/plain": [
       "array([0.03125, 0.03125, 0.28125, 0.28125, 0.125  , 0.03125, 0.03125,\n",
       "       0.03125, 0.03125, 0.125  ])"
      ]
     },
     "execution_count": 60,
     "metadata": {},
     "output_type": "execute_result"
    }
   ],
   "source": [
    "stump3 = DecisionTreeClassifier(max_depth=1, random_state=1)\n",
    "stump3.fit(X, y, sample_weight=w)\n",
    "\n",
    "pred = stump3.predict(X)\n",
    "error3 = sum(pred != y) / len(y)\n",
    "alpha3 = 1/2 * np.log((1 - error3) / error3)\n",
    "\n",
    "wrong_mask = pred != y\n",
    "w[wrong_mask] = w[wrong_mask] * np.exp(alpha3)\n",
    "\n",
    "w[~wrong_mask] = w[~wrong_mask] * np.exp(-alpha3)\n",
    "w /= sum(w)\n",
    "w"
   ]
  },
  {
   "cell_type": "markdown",
   "metadata": {},
   "source": [
    "**Предскажем классы объектов с помощью трех пней**"
   ]
  },
  {
   "cell_type": "code",
   "execution_count": 61,
   "metadata": {},
   "outputs": [
    {
     "data": {
      "text/html": [
       "<div>\n",
       "<style scoped>\n",
       "    .dataframe tbody tr th:only-of-type {\n",
       "        vertical-align: middle;\n",
       "    }\n",
       "\n",
       "    .dataframe tbody tr th {\n",
       "        vertical-align: top;\n",
       "    }\n",
       "\n",
       "    .dataframe thead th {\n",
       "        text-align: right;\n",
       "    }\n",
       "</style>\n",
       "<table border=\"1\" class=\"dataframe\">\n",
       "  <thead>\n",
       "    <tr style=\"text-align: right;\">\n",
       "      <th></th>\n",
       "      <th>mean radius</th>\n",
       "      <th>mean texture</th>\n",
       "      <th>mean perimeter</th>\n",
       "      <th>mean area</th>\n",
       "      <th>mean smoothness</th>\n",
       "      <th>mean compactness</th>\n",
       "      <th>mean concavity</th>\n",
       "      <th>mean concave points</th>\n",
       "      <th>mean symmetry</th>\n",
       "      <th>mean fractal dimension</th>\n",
       "      <th>...</th>\n",
       "      <th>worst radius</th>\n",
       "      <th>worst texture</th>\n",
       "      <th>worst perimeter</th>\n",
       "      <th>worst area</th>\n",
       "      <th>worst smoothness</th>\n",
       "      <th>worst compactness</th>\n",
       "      <th>worst concavity</th>\n",
       "      <th>worst concave points</th>\n",
       "      <th>worst symmetry</th>\n",
       "      <th>worst fractal dimension</th>\n",
       "    </tr>\n",
       "  </thead>\n",
       "  <tbody>\n",
       "    <tr>\n",
       "      <th>227</th>\n",
       "      <td>15.0</td>\n",
       "      <td>15.51</td>\n",
       "      <td>97.45</td>\n",
       "      <td>684.5</td>\n",
       "      <td>0.08371</td>\n",
       "      <td>0.1096</td>\n",
       "      <td>0.06505</td>\n",
       "      <td>0.0378</td>\n",
       "      <td>0.1881</td>\n",
       "      <td>0.05907</td>\n",
       "      <td>...</td>\n",
       "      <td>16.41</td>\n",
       "      <td>19.31</td>\n",
       "      <td>114.2</td>\n",
       "      <td>808.2</td>\n",
       "      <td>0.1136</td>\n",
       "      <td>0.3627</td>\n",
       "      <td>0.3402</td>\n",
       "      <td>0.1379</td>\n",
       "      <td>0.2954</td>\n",
       "      <td>0.08362</td>\n",
       "    </tr>\n",
       "  </tbody>\n",
       "</table>\n",
       "<p>1 rows × 30 columns</p>\n",
       "</div>"
      ],
      "text/plain": [
       "     mean radius  mean texture  mean perimeter  mean area  mean smoothness  \\\n",
       "227         15.0         15.51           97.45      684.5          0.08371   \n",
       "\n",
       "     mean compactness  mean concavity  mean concave points  mean symmetry  \\\n",
       "227            0.1096         0.06505               0.0378         0.1881   \n",
       "\n",
       "     mean fractal dimension  ...  worst radius  worst texture  \\\n",
       "227                 0.05907  ...         16.41          19.31   \n",
       "\n",
       "     worst perimeter  worst area  worst smoothness  worst compactness  \\\n",
       "227            114.2       808.2            0.1136             0.3627   \n",
       "\n",
       "     worst concavity  worst concave points  worst symmetry  \\\n",
       "227           0.3402                0.1379          0.2954   \n",
       "\n",
       "     worst fractal dimension  \n",
       "227                  0.08362  \n",
       "\n",
       "[1 rows x 30 columns]"
      ]
     },
     "metadata": {},
     "output_type": "display_data"
    },
    {
     "data": {
      "text/plain": [
       "227    1\n",
       "Name: target, dtype: int64"
      ]
     },
     "metadata": {},
     "output_type": "display_data"
    }
   ],
   "source": [
    "display(X_test, y_test)"
   ]
  },
  {
   "cell_type": "code",
   "execution_count": 56,
   "metadata": {},
   "outputs": [
    {
     "data": {
      "text/plain": [
       "(1.0986122886681098, 1.0986122886681098, 0.6931471805599453)"
      ]
     },
     "execution_count": 56,
     "metadata": {},
     "output_type": "execute_result"
    }
   ],
   "source": [
    "alpha1, alpha2, alpha3"
   ]
  },
  {
   "cell_type": "code",
   "execution_count": 57,
   "metadata": {},
   "outputs": [
    {
     "data": {
      "text/plain": [
       "(array([1]), array([1]), array([0]))"
      ]
     },
     "execution_count": 57,
     "metadata": {},
     "output_type": "execute_result"
    }
   ],
   "source": [
    "pred1 = stump1.predict(X_test)\n",
    "pred2 = stump2.predict(X_test)\n",
    "pred3 = stump3.predict(X_test)\n",
    "pred1, pred2, pred3"
   ]
  },
  {
   "cell_type": "code",
   "execution_count": 58,
   "metadata": {},
   "outputs": [
    {
     "data": {
      "text/plain": [
       "(2.1972245773362196, 0.6931471805599453)"
      ]
     },
     "execution_count": 58,
     "metadata": {},
     "output_type": "execute_result"
    }
   ],
   "source": [
    "alpha1 + alpha2, alpha3"
   ]
  },
  {
   "cell_type": "code",
   "execution_count": 59,
   "metadata": {},
   "outputs": [
    {
     "data": {
      "text/plain": [
       "227    1\n",
       "Name: target, dtype: int64"
      ]
     },
     "execution_count": 59,
     "metadata": {},
     "output_type": "execute_result"
    }
   ],
   "source": [
    "pred = 1\n",
    "y_test"
   ]
  },
  {
   "cell_type": "markdown",
   "metadata": {},
   "source": [
    "## Алгоритм AdaBoost<a class='anchor' id='alg_ada'>"
   ]
  },
  {
   "cell_type": "markdown",
   "metadata": {
    "colab_type": "text",
    "id": "0X9EilDubsjL"
   },
   "source": [
    "__1.__ Инициализация начальных весов объектов из выборки длиной $l$ (равномерно):\n",
    "\n",
    "$$D_{1}(i) = \\frac{1}{l}$$\n",
    "\n",
    "__2.__ Для каждого из $N$ деревьев в ансамбле:\n",
    "\n",
    "- находим классификатор $b_{n}$, который минимизирует взвешенную ошибку классификации\n",
    "\n",
    "$$b_{n} = \\underset{b}{\\text{argmin}}\\;\\varepsilon_{j},$$\n",
    "\n",
    "    где \n",
    "\n",
    "$$\\varepsilon_{j} = \\sum_{i=1}^{l}D_{n}(i)[y_{i}\\neq b_{j}(x)]$$\n",
    "$D_{n}(i)$ - вес объекта, $[y_{i}\\neq b_{j}(x)]$ - неправильно классифицированные объекты\n",
    "\n",
    "- критерием остановки является значение $\\varepsilon_{j} \\geq 0.5$. При таком значении ошибки нужно выбрать другой классификатор и продолжить.\n",
    "\n",
    "- выбираем вес для дерева $\\alpha_{n}$ по формуле\n",
    "\n",
    "$$\\alpha_{n} = \\frac{1}{2}\\text{ln}\\frac{1 - \\varepsilon_{n}}{\\varepsilon_{n}}$$\n",
    "\n",
    "- обновляем веса при объектах:\n",
    "\n",
    "$$D_{n+1}(i) = \\frac{D_{n}(i)e^{-\\alpha_{n}y_{i}b_{n}(x_{i})}}{Z_{n}},$$\n",
    "\n",
    "выражение $y_{i}b_{n}(x_{i})$ в случае $Y = \\{-1, 1\\}$ будет равняться 1 для правильно классифицированных объектов и -1 для неправильно классифицированных, то есть по сути правильность классификации будет означать, будет $e^{\\alpha_{n}}$ стоять в числителе (увеличивается вес неправильно классиф. объектов) или в знаменателе (уменьшается вес правильно классиф. объектов) формулы. В случае $Y = \\{0,1\\}$ вес будет уменьшаться у правильно классифицированных объектов, а у неправильно классифицированных - оставаться неизменным (до нормализации). $Z_{n}$ здесь - нормализующий параметр, выбираемый так, чтобы $D_{n+1}$ по своей сути являлся распределением вероятностей, то есть\n",
    "\n",
    "$$\\sum_{i=1}^{l}D_{n+1} = 1.$$"
   ]
  },
  {
   "cell_type": "markdown",
   "metadata": {
    "id": "qTdnsVCnbshu"
   },
   "source": [
    "### Реализация алгоритма AdaBoost<a class='anchor' id='implement_ada'>"
   ]
  },
  {
   "cell_type": "code",
   "execution_count": 64,
   "metadata": {
    "id": "AMMYdEpSbsjM"
   },
   "outputs": [],
   "source": [
    "from sklearn.tree import DecisionTreeClassifier\n",
    "from sklearn.datasets import load_breast_cancer"
   ]
  },
  {
   "cell_type": "code",
   "execution_count": 65,
   "metadata": {
    "id": "2cQW-bglbsjP"
   },
   "outputs": [
    {
     "data": {
      "text/plain": [
       "((569, 30), (569,))"
      ]
     },
     "execution_count": 65,
     "metadata": {},
     "output_type": "execute_result"
    }
   ],
   "source": [
    "X, y = load_breast_cancer(return_X_y=True)\n",
    "X.shape, y.shape"
   ]
  },
  {
   "cell_type": "markdown",
   "metadata": {
    "id": "HbArvbGPbsjS"
   },
   "source": [
    "Разделим выборку на обучающую и тестовую"
   ]
  },
  {
   "cell_type": "code",
   "execution_count": 66,
   "metadata": {
    "id": "-3Q2bSlibsjV"
   },
   "outputs": [],
   "source": [
    "X_train, X_test, y_train, y_test = model_selection.train_test_split(X, y, test_size=0.25, random_state=32)"
   ]
  },
  {
   "cell_type": "markdown",
   "metadata": {
    "id": "C-YeAmXObsjZ"
   },
   "source": [
    "Реализуем функцию подсчета ошибки"
   ]
  },
  {
   "cell_type": "code",
   "execution_count": 67,
   "metadata": {
    "id": "qxVwBxTtbsja"
   },
   "outputs": [],
   "source": [
    "def get_error(pred, y):\n",
    "    return sum(pred != y) / len(y)"
   ]
  },
  {
   "cell_type": "markdown",
   "metadata": {
    "id": "xVRjV3Rubsjb"
   },
   "source": [
    "И сам алгоритм"
   ]
  },
  {
   "cell_type": "code",
   "execution_count": 68,
   "metadata": {
    "id": "wiKx_qKObsjb"
   },
   "outputs": [],
   "source": [
    "def adaboost(X, y, N):\n",
    "\n",
    "    # Размер выборки\n",
    "    n_objects = len(X)\n",
    "\n",
    "    # Запишем количество классов в переменную\n",
    "    n_classes = len(np.unique((y)))\n",
    "\n",
    "    # Начальные веса объектов\n",
    "    w = np.ones(n_objects) / n_objects\n",
    "\n",
    "    # Деревья с весами будем записывать в список\n",
    "    models = []\n",
    "\n",
    "    for n in range(N):\n",
    "        # Зададим дерево и обучим его\n",
    "        clf = DecisionTreeClassifier(max_depth=1)\n",
    "        clf.fit(X, y, sample_weight=w)\n",
    "\n",
    "        predictions = clf.predict(X)\n",
    "        error = get_error(predictions, y)\n",
    "        \n",
    "        # отбросим дерево, если его ошибка больше 0.5\n",
    "        # Запишем условие в общем виде (применимо к небинарным классификаторам)\n",
    "        if error >= 1 - 1/n_classes: \n",
    "            continue\n",
    "\n",
    "        # Обработаем граничные значения ошибок\n",
    "        if error == 0:\n",
    "            error += 1e-10\n",
    "   \n",
    "        # Вычислим вес для дерева\n",
    "        alpha = 0.5 * np.log((1 - error) / error)\n",
    "\n",
    "\n",
    "        # Найдем индексы правильно классифицированных элементов\n",
    "        wrong_mask = predictions != y\n",
    "\n",
    "        # Увеличим веса для неправильно классифицированных элементов\n",
    "        w[wrong_mask] *= np.exp(alpha)\n",
    "        # Уменьшаем веса для правильно классифицированных элементов\n",
    "        w[~wrong_mask] *= np.exp(-alpha)\n",
    "\n",
    "        # Нормализуем веса\n",
    "        w /= w.sum()\n",
    "\n",
    "        # Добавим дерево с весом в список\n",
    "        models.append((alpha, clf))\n",
    "    \n",
    "    return models"
   ]
  },
  {
   "cell_type": "markdown",
   "metadata": {
    "id": "GCRBLGmYbsjd"
   },
   "source": [
    "Обучим алгоритм из 50 деревьев"
   ]
  },
  {
   "cell_type": "code",
   "execution_count": 69,
   "metadata": {
    "id": "M2QwLTjkbsje"
   },
   "outputs": [],
   "source": [
    "N = 50\n",
    "\n",
    "models = adaboost(X_train, y_train, N)"
   ]
  },
  {
   "cell_type": "markdown",
   "metadata": {
    "id": "pf6R7t9Wbsjg"
   },
   "source": [
    "Теперь осуществим предсказание"
   ]
  },
  {
   "cell_type": "code",
   "execution_count": 66,
   "metadata": {},
   "outputs": [
    {
     "data": {
      "text/plain": [
       "array([[0., 0.],\n",
       "       [0., 0.],\n",
       "       [0., 0.],\n",
       "       [0., 0.],\n",
       "       [0., 0.],\n",
       "       [0., 0.],\n",
       "       [0., 0.],\n",
       "       [0., 0.],\n",
       "       [0., 0.],\n",
       "       [0., 0.]])"
      ]
     },
     "execution_count": 66,
     "metadata": {},
     "output_type": "execute_result"
    }
   ],
   "source": [
    "np.zeros((10, 2))"
   ]
  },
  {
   "cell_type": "code",
   "execution_count": 67,
   "metadata": {
    "colab": {
     "base_uri": "https://localhost:8080/",
     "height": 34
    },
    "id": "1cRftLvhbsjg",
    "outputId": "a66d98df-1a4d-4b13-ac89-d8bcc7fdfd57"
   },
   "outputs": [],
   "source": [
    "def predict(X, models):\n",
    "    \n",
    "    n_classes = 2\n",
    "    n_objects = len(X)\n",
    "    \n",
    "    # вначале обозначим предсказание нулевым массивом\n",
    "    y_pred = np.zeros((n_objects, n_classes))\n",
    "    \n",
    "    for alpha, clf in models:\n",
    "        prediction = clf.predict(X)\n",
    "        # Для каждого предсказания будем прибавлять alpha к\n",
    "        # элементу с индексом предсказанного класса\n",
    "        y_pred[range(n_objects), prediction] += alpha\n",
    "    \n",
    "    # выберем индексы с максимальными суммарными весами -\n",
    "    # получим предсказанные алгоритмом классы\n",
    "    y_pred = np.argmax(y_pred, axis=1)\n",
    "    \n",
    "    return y_pred"
   ]
  },
  {
   "cell_type": "code",
   "execution_count": 68,
   "metadata": {},
   "outputs": [
    {
     "name": "stdout",
     "output_type": "stream",
     "text": [
      "Точность алгоритма на обучающей выборке: 96.948\n"
     ]
    }
   ],
   "source": [
    "print(f'Точность алгоритма на обучающей выборке: {(1 - get_error(predict(X_train, models), y_train)) * 100:.3f}')"
   ]
  },
  {
   "cell_type": "code",
   "execution_count": 69,
   "metadata": {
    "colab": {
     "base_uri": "https://localhost:8080/",
     "height": 34
    },
    "id": "AIOQigknbsjj",
    "outputId": "7294c81b-418f-4bcb-c9c0-71636718e216"
   },
   "outputs": [
    {
     "name": "stdout",
     "output_type": "stream",
     "text": [
      "Точность алгоритма на тестовой выборке: 94.406\n"
     ]
    }
   ],
   "source": [
    "print(f'Точность алгоритма на тестовой выборке: {(1 - get_error(predict(X_test, models), y_test)) * 100:.3f}')"
   ]
  },
  {
   "cell_type": "markdown",
   "metadata": {
    "id": "64NptCn3bsjm"
   },
   "source": [
    "Построим графики зависимости ошибки от количества базовых алгоритмов в ансамбле."
   ]
  },
  {
   "cell_type": "code",
   "execution_count": 70,
   "metadata": {
    "id": "f2diAmLwbsjn"
   },
   "outputs": [],
   "source": [
    "train_errors = []\n",
    "test_errors = []\n",
    "\n",
    "for n in range(1, 31):\n",
    "    models = adaboost(X_train, y_train, n)\n",
    "    train_errors.append(get_error(predict(X_train, models), y_train))\n",
    "    test_errors.append(get_error(predict(X_test, models), y_test))"
   ]
  },
  {
   "cell_type": "code",
   "execution_count": 71,
   "metadata": {
    "colab": {
     "base_uri": "https://localhost:8080/",
     "height": 1000
    },
    "id": "ufw5bo9Lbsjp",
    "outputId": "b269e88d-f96d-41cc-cbeb-12911c5cf299"
   },
   "outputs": [
    {
     "data": {
      "image/png": "[encoded data removed]",
      "text/plain": [
       "<Figure size 432x288 with 1 Axes>"
      ]
     },
     "metadata": {
      "needs_background": "light"
     },
     "output_type": "display_data"
    }
   ],
   "source": [
    "x = list(range(1, 31))\n",
    "\n",
    "plt.xlim(0, 30)\n",
    "plt.plot(x, train_errors, label='train errors')\n",
    "plt.plot(x, test_errors, label='test errors')\n",
    "plt.xlabel('N')\n",
    "plt.ylabel('Error')\n",
    "plt.legend(loc='upper right');"
   ]
  },
  {
   "cell_type": "markdown",
   "metadata": {
    "id": "aTqEbRmPbsjq"
   },
   "source": [
    "Достоинствами алгоритма AdaBoost можно назвать простоту реализации, хорошую обобщающую способность и небольшую вычислительную сложность. В то же время, есть и недостатки - в первую очередь, склонность к переобучению при наличии в данных шума и выбросов: для наиболее трудноклассифицируемых объектов алгоритм будет определять очень большие веса и в итоге переобучаться на них. В то же время это является и плюсом: таким образом можно идентифицировать выбросы. "
   ]
  },
  {
   "cell_type": "markdown",
   "metadata": {},
   "source": [
    "## Домашнее задание<a class='anchor' id='hw'>"
   ]
  },
  {
   "cell_type": "markdown",
   "metadata": {},
   "source": [
    "1. Для реализованной модели градиентного бустинга построить графики зависимости ошибки от количества деревьев в ансамбле и от максимальной глубины деревьев. Сделать выводы о зависимости ошибки от этих параметров.\n",
    "\n",
    "2. *Модифицировать реализованный алгоритм градиентного бустинга, чтобы получился стохастический градиентный бустинг. Размер подвыборки принять равным 0.5. Сравнить на одном графике кривые изменения ошибки на тестовой выборке в зависимости от числа итераций.\n",
    "\n",
    "3. *Оптимизировать процесс обучения градиентного бустинга, чтобы он занимал меньше времени."
   ]
  },
  {
   "cell_type": "markdown",
   "metadata": {},
   "source": [
    "Проект: \n",
    "1. https://www.kaggle.com/t/9bdc38c9440f4723976e14e219eb2735 регрессия\n",
    "1. https://www.kaggle.com/t/a51a55b2bf984a9db9ff888e9a11e3d8 классификация"
   ]
  },
  {
   "cell_type": "markdown",
   "metadata": {
    "id": "gKn5SRC2bsjr"
   },
   "source": [
    "## Дополнительные материалы"
   ]
  },
  {
   "cell_type": "markdown",
   "metadata": {
    "colab_type": "text",
    "id": "c6i9D-7Xbsjs"
   },
   "source": [
    "1. [Интерактивная демонстрация градиентного бустинга](http://arogozhnikov.github.io/2016/06/24/gradient_boosting_explained.html)\n",
    "2. [sklearn.datasets](https://scikit-learn.org/stable/datasets/index.html)\n",
    "3. [sklearn.tree.DecisionTreeRegressor](https://scikit-learn.org/stable/modules/generated/sklearn.tree.DecisionTreeRegressor.html)\n",
    "4. [$L_{1}$ loss и $L_{2}$ loss](https://afteracademy.com/blog/what-are-l1-and-l2-loss-functions)\n",
    "5. [XGBoost](https://github.com/esokolov/ml-course-hse/blob/master/2016-fall/lecture-notes/lecture10-ensembles.pdf)\n",
    "6. [AdaBoost](https://ru.wikipedia.org/wiki/AdaBoost)\n",
    "7. [XGBoost: A Scalable Tree Boosting System - оригинальная статья](http://scholar.google.ru/scholar_url?url=https://dl.acm.org/ft_gateway.cfm%3Fftid%3D1775849%26id%3D2939785&hl=en&sa=X&scisig=AAGBfm3b8fqJWtjjjejQ5fQwrtg9eQQK-w&nossl=1&oi=scholarr)"
   ]
  },
  {
   "cell_type": "markdown",
   "metadata": {},
   "source": [
    "## Summary"
   ]
  },
  {
   "cell_type": "markdown",
   "metadata": {},
   "source": [
    "* На больших и сложных данных градиентный бустинг - один из лучших алгоритмов\n",
    "* Много настраиваемых параметров \n",
    "* Есть очень быстрые реализации \n",
    "* Обычно строят на деревьях решений"
   ]
  },
  {
   "cell_type": "markdown",
   "metadata": {},
   "source": [
    "### Определения\n",
    "*Бустинг*\n",
    "\n",
    "**Бустинг** — это техника построения ансамблей, в которой предсказатели построены не независимо, а последовательно."
   ]
  },
  {
   "cell_type": "markdown",
   "metadata": {},
   "source": [
    "**Алгоритм построения градиентного бустинга**\n",
    "1. Инициализация начального алгоритма $b_{0}(x)$\n",
    "\n",
    "2. Цикл по n = 1,2,3,...:\n",
    "\n",
    "    * Подсчитывание остатков $s = \\left ( \\left.-\\frac{\\partial L}{\\partial z} \\right|_{z = a_{n-1}(x_{1})},...,\\left.-\\frac{\\partial L}{\\partial z} \\right|_{z = a_{n-1}(x_{l})}\\right );$\n",
    "\n",
    "    * Обучение нового алгоритма $b_{n}(x) = \\underset{s}{\\text{argmin}}\\frac{1}{l}\\sum_{i=1}^{l}(b(x_{i})-s_{i})^{2};$\n",
    "    \n",
    "    * Добавление алгоритма в композицию $a_{n}(x) = a_{n-1}(x) + \\eta b_{n}(x).$"
   ]
  },
  {
   "cell_type": "markdown",
   "metadata": {},
   "source": [
    "**Алгоритм построения AdaBoost**\n",
    "1. Инициализация начальных весов объектов:\n",
    "$D_{1}(i) = \\frac{1}{l}$\n",
    "2. Цикл по n = 1,2,3,...:\n",
    "\n",
    "    * находим классификатор $b_{n}$, который минимизирует взвешенную ошибку классификации\n",
    "$b_{n} = \\underset{b}{\\text{argmin}}\\;\\varepsilon_{j},$    где \n",
    "$\\varepsilon_{j} = \\sum_{i=1}^{l}D_{n}(i)[y_{i}\\neq b_{j}(x)]$\n",
    "\n",
    "    * выбираем вес для дерева $\\alpha_{n}$ по формуле\n",
    "    $\\alpha_{n} = \\frac{1}{2}\\text{ln}\\frac{1 - \\varepsilon_{n}}{\\varepsilon_{n}}$\n",
    "    * обновляем веса при объектах:\n",
    "$D_{n+1}(i) = \\frac{D_{n}(i)e^{-\\alpha_{n}y_{i}b_{n}(x_{i})}}{Z_{n}},$\n",
    "    * критерием останова является значение $\\varepsilon_{j} \\geq 0.5$. При таком значении ошибки нужно выбрать другой классификатор и продолжить."
   ]
  }
 ],
 "metadata": {
  "colab": {
   "collapsed_sections": [
    "Rg5ilDbTbshs",
    "Z2tMUhhXbsjK"
   ],
   "name": "Lesson_6(edited).ipynb",
   "provenance": []
  },
  "kernelspec": {
   "display_name": "Python 3",
   "language": "python",
   "name": "python3"
  },
  "language_info": {
   "codemirror_mode": {
    "name": "ipython",
    "version": 3
   },
   "file_extension": ".py",
   "mimetype": "text/x-python",
   "name": "python",
   "nbconvert_exporter": "python",
   "pygments_lexer": "ipython3",
   "version": "3.6.9"
  }
 },
 "nbformat": 4,
 "nbformat_minor": 1
}
