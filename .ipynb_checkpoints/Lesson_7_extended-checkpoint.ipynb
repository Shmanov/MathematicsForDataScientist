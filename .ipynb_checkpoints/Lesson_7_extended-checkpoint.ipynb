{
 "cells": [
  {
   "cell_type": "markdown",
   "metadata": {
    "id": "pkNPdXJtuf9t"
   },
   "source": [
    "# Урок 7. Классификация с помощью kNN. Кластеризация K-means"
   ]
  },
  {
   "cell_type": "markdown",
   "metadata": {},
   "source": [
    "**План занятия**\n",
    "\n",
    "* [Теоретическая часть](#theory)\n",
    "    * [Меры и метрики расстояния между объектами](#metrics)\n",
    "    * [Алгоритм kNN](#knn)\n",
    "        * [Реализация алгоритма kNN](#implement_knn)\n",
    "    * [Обучение без учителя. Кластеризация. K-means](#unsupervised)\n",
    "        * [Внутренние метрики](#in)\n",
    "        * [Внешние метрики](#out)\n",
    "        * [Алгоритм K-means (K-средних)](#kmeans)\n",
    "* [Домашнее задание](#hw)"
   ]
  },
  {
   "cell_type": "markdown",
   "metadata": {},
   "source": [
    "## <center>Теоретическая часть<a class=\"anchor\" id=\"theory\"></a><center>"
   ]
  },
  {
   "cell_type": "markdown",
   "metadata": {
    "id": "JWKvWqaKuf9v"
   },
   "source": [
    "В этом уроке речь пойдет о так называемых *метрических алгоритмах*, то есть об алгоритмах, построенных на вычислении расстояний между объектами. Для начала нам нужно определить, какими способами эти расстояния можно вычислять."
   ]
  },
  {
   "cell_type": "markdown",
   "metadata": {
    "id": "zDVBc3sfuf9w"
   },
   "source": [
    "## Меры и метрики расстояния между объектами<a class='anchor' id='metrics'>"
   ]
  },
  {
   "cell_type": "markdown",
   "metadata": {
    "id": "tr0vgrRduf9x"
   },
   "source": [
    "Понятие метрических пространств, метрик и некоторые их примеры уже рассматривались вами на курсе по линейной алгебре в рамках обучения по профессии. В этом разделе мы вспомним, какие могут быть метрики и их применение в плоскости машинного обучения."
   ]
  },
  {
   "cell_type": "markdown",
   "metadata": {
    "id": "xwD8b7Truf9y"
   },
   "source": [
    "Метрика является функцией, задающей расстояние в метрическом пространстве. Как мы помним из курса линейной алгебры, она должна удовлетворять трем аксиомам:\n",
    "\n",
    "1. $\\rho(x, y) \\geq 0, \\rho(x, y) = 0 \\Leftrightarrow x = y;$\n",
    "2. $\\rho(x, y) = \\rho (y, x);$\n",
    "3. $\\rho(x, y) \\leq \\rho(x, z) + \\rho(z, y).$"
   ]
  },
  {
   "cell_type": "markdown",
   "metadata": {
    "id": "jLK_Bvxiuf9z"
   },
   "source": [
    "Евклидова метрика\n",
    "\n",
    "$${\\rho(x, y) = \\sqrt{\\sum_{i=1}^{n}(x_{i}-y_{i})^{2}}}$$\n",
    "\n",
    "и манхэттенская метрика\n",
    "\n",
    "$$\\rho(x, y) = \\sum_{i=1}^{n}|x_{i}-y_{i}|$$\n",
    "\n",
    "уже должны быть вам знакомы. \n",
    "\n",
    "<img src='images/euc_manh.jpg'>\n",
    "\n",
    "Также можно показать обобщение этих двух метрик - метрика Минковского:\n",
    "\n",
    "$$\\rho(x, y) = \\left ( \\sum_{i=1}^{n}|x_{i}-y_{i}|^{q} \\right )^{\\frac{1}{q}}.$$\n",
    "\n",
    "При этом при $q = 1$ получаем манхэттенскую ($L_{1}$) метрику, при $q = 2$ - евклидову ($L_{2}$) метрику."
   ]
  },
  {
   "cell_type": "markdown",
   "metadata": {
    "id": "6VHDuUyFuf9z"
   },
   "source": [
    "Кроме этого, в метрических алгоритмах часто используются так называемые меры близости. В отличие от метрик, которые тем меньше, чем объекты более похожи, меры близости увеличиваются при увеличении похожести (близости) объектов."
   ]
  },
  {
   "cell_type": "markdown",
   "metadata": {
    "id": "E5Qvkxxauf90"
   },
   "source": [
    "Примером такой функции может быть *косинусное сходство (косинусная мера)*:\n",
    "\n",
    "$$\\text{cos}\\theta = \\frac{\\left \\langle x, y \\right \\rangle}{||x||\\cdot||y||} = \\frac{\\sum_{i=1}^{n}x_{i}y_{i}}{\\sqrt{\\sum_{i=1}^{n}x_{i}^{2}}\\sqrt{\\sum_{i=1}^{n}y_{i}^{2}}}.$$"
   ]
  },
  {
   "cell_type": "markdown",
   "metadata": {
    "id": "mUl9cSZ9uf91"
   },
   "source": [
    "Из этой функции также вытекает *косинусное расстояние*:\n",
    "\n",
    "$$\\rho_{cos}(x, y) = 1 - \\text{cos}\\theta = 1 - \\frac{\\sum_{i=1}^{n}x_{i}y_{i}}{\\sqrt{\\sum_{i=1}^{n}x_{i}^{2}}\\sqrt{\\sum_{i=1}^{n}y_{i}^{2}}}.$$\n",
    "\n",
    "Именно такая формула используется в функции `scipy.spatial.distance.cosine()` из библиотеки scipy, возвращающая косинусное расстояние между двумя векторами.\n",
    "\n",
    "<img src='images/trig.png'>\n",
    "\n",
    "__Аналитический смысл__: объекты представлены в виде векторов, между двумя векторами образуется угол, значение косинуса этого угла – это и есть косинусная мера (следует из формулы скалярного произведения). "
   ]
  },
  {
   "cell_type": "markdown",
   "metadata": {
    "id": "BVefMMeWuf91"
   },
   "source": [
    "Косинусная мера часто используется в анализе текстов.\n",
    "\n",
    "<img src='images/cosine.png'>\n",
    "\n",
    "\n",
    "__Почему эта функция - метрика?__\n",
    "\n",
    "* f(x, x) = 0 - потому что cos(0)=1\n",
    "* f(x,y) = f(y,x) - по симметрии - очевидно, что угол между x и y равен углу между y и x\n",
    "* неравенство треугольника (физический смысл)"
   ]
  },
  {
   "cell_type": "markdown",
   "metadata": {
    "id": "x3S2TJ8luf92"
   },
   "source": [
    "Кроме косинусной меры в прикладных задачах могут использоваться и другие функции - коэффициент Дайса, коэффициент Жаккара, коэффициент перекрытия (см. доп. материалы)."
   ]
  },
  {
   "cell_type": "markdown",
   "metadata": {
    "id": "29Ii-h2Auf94"
   },
   "source": [
    "## Алгоритм kNN<a class='anchor' id='knn'>"
   ]
  },
  {
   "cell_type": "markdown",
   "metadata": {
    "id": "-gROL4l_uf94"
   },
   "source": [
    "Начнем обсуждение метрических алгоритмов с алгоритма kNN. Данный алгоритм является еще одним способом решения задачи классификации. Расшифровывается его название как \"k ближайших соседей (k nearest neighbours)\"."
   ]
  },
  {
   "cell_type": "markdown",
   "metadata": {
    "id": "EqQdBzZyuf95"
   },
   "source": [
    "Суть его довольно проста и заключается в принципе отнесения объекту к тому классу, представители которого преобладают рядом с ним. Таким образом, упрощенно алгоритм классификации выглядит следующим образом:\n",
    "\n",
    "- найти расстояние от объекта $u$ до каждого из объектов $x$ обучающей выборки;\n",
    "- выбрать $k$ объектов, расстояние до которых минимально;\n",
    "- отнести объект к классу, к которому относится большинство из выбранных $k$ ближайших соседей, то есть провести голосование.\n",
    "\n",
    "При этом метод можно адаптировать под регрессию: в этом случае находится не метка класса, а среднее значение ответа среди $k$ соседей."
   ]
  },
  {
   "cell_type": "markdown",
   "metadata": {},
   "source": [
    "<img src='images/knn.png' width=600px>"
   ]
  },
  {
   "cell_type": "markdown",
   "metadata": {
    "id": "MSwxja77uf96"
   },
   "source": [
    "Интересной особенностью метода является то, что на этапе обучения не строится модель, а просто запоминается обучающая выборка. Вычисления начинаются именно на этапе решения задачи классификации конкретного объекта (поэтому этот алгоритм можно назвать ленивым)."
   ]
  },
  {
   "cell_type": "markdown",
   "metadata": {},
   "source": [
    "Логичным усовершенствованием алгоритма kNN является добавление соседям весов (так называемое \"взвешенное голосование\"), зависящих от их порядкового номера или расстояния до классифицируемого объекта (чем ближе объект обучающей выборки, тем больше его вес).\n",
    "\n",
    "<img src='images/knn_weighted.png' width=550px>\n",
    "\n",
    "**От номера соседа $i$ веса можно определять как:**\n",
    "\n",
    "### - $w(i) = q^{i}$,   $q \\in (0,1)$;"
   ]
  },
  {
   "cell_type": "code",
   "execution_count": 1,
   "metadata": {},
   "outputs": [],
   "source": [
    "import matplotlib.pyplot as plt\n",
    "import numpy as np\n",
    "\n",
    "import warnings\n",
    "warnings.filterwarnings('ignore')"
   ]
  },
  {
   "cell_type": "code",
   "execution_count": 2,
   "metadata": {},
   "outputs": [
    {
     "data": {
      "image/png": "[encoded data removed]",
      "text/plain": [
       "<Figure size 432x288 with 1 Axes>"
      ]
     },
     "metadata": {
      "needs_background": "light"
     },
     "output_type": "display_data"
    }
   ],
   "source": [
    "dots = np.linspace(1, 10, 100)\n",
    "q = 0.5\n",
    "value = list(map(lambda x: q ** x, dots))\n",
    "\n",
    "plt.xlabel('x')\n",
    "plt.ylabel('$q^x$')\n",
    "plt.grid()\n",
    "plt.plot(dots, value);"
   ]
  },
  {
   "cell_type": "markdown",
   "metadata": {},
   "source": [
    "### - $w(i) = \\frac{1}{i}$;"
   ]
  },
  {
   "cell_type": "code",
   "execution_count": 3,
   "metadata": {},
   "outputs": [
    {
     "data": {
      "image/png": "[encoded data removed]",
      "text/plain": [
       "<Figure size 432x288 with 1 Axes>"
      ]
     },
     "metadata": {
      "needs_background": "light"
     },
     "output_type": "display_data"
    }
   ],
   "source": [
    "dots = np.linspace(1, 10, 100)\n",
    "value = list(map(lambda x: 1/x, dots))\n",
    "\n",
    "plt.xlabel('x')\n",
    "plt.ylabel('1/x')\n",
    "plt.grid()\n",
    "plt.plot(dots, value);"
   ]
  },
  {
   "cell_type": "markdown",
   "metadata": {},
   "source": [
    "**От расстояния $d$ веса можно определять как:**\n",
    "\n",
    "### - $w(d) = q^{d}$,   $q \\in (0,1)$;"
   ]
  },
  {
   "cell_type": "code",
   "execution_count": 4,
   "metadata": {},
   "outputs": [
    {
     "data": {
      "image/png": "[encoded data removed]",
      "text/plain": [
       "<Figure size 432x288 with 1 Axes>"
      ]
     },
     "metadata": {
      "needs_background": "light"
     },
     "output_type": "display_data"
    }
   ],
   "source": [
    "dots = np.linspace(0, 10, 100)\n",
    "q = 0.5\n",
    "value = list(map(lambda d: q ** d, dots))\n",
    "\n",
    "plt.xlabel('d')\n",
    "plt.ylabel('$q^d$')\n",
    "plt.grid()\n",
    "plt.plot(dots, value);"
   ]
  },
  {
   "cell_type": "markdown",
   "metadata": {},
   "source": [
    "### - $w(d) = \\frac{1}{d+a}$,\n",
    "брать вес $\\frac{1}{d}$ по аналогии с номером соседа - неудачное решение, так как при $d = 0$ вес будет бесконечно большим, что приводит к переобучению"
   ]
  },
  {
   "cell_type": "code",
   "execution_count": 5,
   "metadata": {},
   "outputs": [
    {
     "data": {
      "image/png": "[encoded data removed]",
      "text/plain": [
       "<Figure size 432x288 with 1 Axes>"
      ]
     },
     "metadata": {
      "needs_background": "light"
     },
     "output_type": "display_data"
    }
   ],
   "source": [
    "dots = np.linspace(0, 10, 100)\n",
    "a = 1\n",
    "value = list(map(lambda d: 1/(d + a), dots))\n",
    "\n",
    "plt.xlabel('d')\n",
    "plt.ylabel('$1/(d + a)^b$')\n",
    "plt.grid()\n",
    "plt.plot(dots, value);"
   ]
  },
  {
   "cell_type": "markdown",
   "metadata": {
    "id": "Y_6VaBrnuf96"
   },
   "source": [
    "Существуют и другие способы вычисления весов."
   ]
  },
  {
   "cell_type": "markdown",
   "metadata": {
    "id": "NYubreR8uf97"
   },
   "source": [
    "Часто перед работой по алгоритму kNN требуется проводить нормализацию признаков, так как они могут иметь разные единицы измерения, что может искажать расстояние между объектами."
   ]
  },
  {
   "cell_type": "markdown",
   "metadata": {
    "id": "4xYJJr-Wuf98"
   },
   "source": [
    "В общем и целом получается, что при работе с алгоритмом kNN исследователю требуется подобрать три параметра - количество соседей k, метрика расстояния и способ вычисления весов. Для получения лучшего качества работы алгоритма эти параметры нужно подбирать на отложенной выборке или при помощи кросс-валидации."
   ]
  },
  {
   "cell_type": "markdown",
   "metadata": {
    "id": "ANWmZgT2uf99"
   },
   "source": [
    "### Реализация алгоритма kNN<a class='anchor' id='implement_knn'>"
   ]
  },
  {
   "cell_type": "code",
   "execution_count": 6,
   "metadata": {
    "id": "ChmkZ71kuf9-"
   },
   "outputs": [],
   "source": [
    "import numpy as np\n",
    "from sklearn.model_selection import train_test_split\n",
    "from sklearn.datasets import load_iris\n",
    "import matplotlib.pyplot as plt\n",
    "from matplotlib.colors import ListedColormap"
   ]
  },
  {
   "cell_type": "markdown",
   "metadata": {
    "id": "V5FaldH6uf-B"
   },
   "source": [
    "Загрузим один из \"игрушечных\" датасетов из sklearn."
   ]
  },
  {
   "cell_type": "code",
   "execution_count": 7,
   "metadata": {
    "id": "_49Y22E9uf-C"
   },
   "outputs": [],
   "source": [
    "X, y = load_iris(return_X_y=True)\n",
    "\n",
    "# Для наглядности возьмем только первые два признака (всего в датасете их 4)\n",
    "X = X[:, :2]"
   ]
  },
  {
   "cell_type": "markdown",
   "metadata": {
    "id": "ZpwmydFPuf-F"
   },
   "source": [
    "Разделим выборку на обучающую и тестовую"
   ]
  },
  {
   "cell_type": "code",
   "execution_count": 8,
   "metadata": {
    "id": "ACYClLghuf-F"
   },
   "outputs": [
    {
     "data": {
      "text/plain": [
       "((120, 2), (30, 2))"
      ]
     },
     "execution_count": 8,
     "metadata": {},
     "output_type": "execute_result"
    }
   ],
   "source": [
    "X_train, X_test, y_train, y_test = train_test_split(X, y,\n",
    "                                                    test_size=0.2,\n",
    "                                                    random_state=1,\n",
    "                                                    stratify=y)\n",
    "X_train.shape, X_test.shape"
   ]
  },
  {
   "cell_type": "code",
   "execution_count": 9,
   "metadata": {
    "id": "Johgj2p6uf-J",
    "outputId": "081c6165-bd71-4800-9ab1-78646f5489fd"
   },
   "outputs": [
    {
     "data": {
      "image/png": "[encoded data removed]",
      "text/plain": [
       "<Figure size 504x504 with 1 Axes>"
      ]
     },
     "metadata": {
      "needs_background": "light"
     },
     "output_type": "display_data"
    }
   ],
   "source": [
    "cmap = ListedColormap(['red', 'green', 'blue'])\n",
    "plt.figure(figsize=(7, 7))\n",
    "plt.scatter(X[:, 0], X[:, 1], c=y, cmap=cmap);"
   ]
  },
  {
   "cell_type": "markdown",
   "metadata": {
    "id": "59xP1kfUuf-O"
   },
   "source": [
    "Используем евклидову метрику. Реализуем функцию для ее подсчета."
   ]
  },
  {
   "cell_type": "code",
   "execution_count": 10,
   "metadata": {
    "id": "MKipIKeGuf-P"
   },
   "outputs": [],
   "source": [
    "def e_metrics(x1, x2):\n",
    "    \n",
    "    distance = np.sum(np.square(x1 - x2))\n",
    "\n",
    "    return np.sqrt(distance)"
   ]
  },
  {
   "cell_type": "markdown",
   "metadata": {
    "id": "1tvFJ8-ouf-T"
   },
   "source": [
    "Реализуем алгоритм поиска k ближайших соседей."
   ]
  },
  {
   "cell_type": "code",
   "execution_count": 11,
   "metadata": {},
   "outputs": [],
   "source": [
    "# {class_item: 0 for class_item in set(y_train)}"
   ]
  },
  {
   "cell_type": "code",
   "execution_count": 52,
   "metadata": {
    "id": "LIKuDr9huf-V"
   },
   "outputs": [],
   "source": [
    "def knn(x_train, y_train, x_test, k):\n",
    "    \n",
    "    answers = []\n",
    "    for x in x_test:\n",
    "        test_distances = []\n",
    "        q = 0.5 \n",
    "            \n",
    "        for i in range(len(x_train)):\n",
    "            \n",
    "            # расчет расстояния от классифицируемого объекта до\n",
    "            # объекта обучающей выборки\n",
    "            distance = e_metrics(x, x_train[i])\n",
    "            \n",
    "            W = q ** distance\n",
    "            \n",
    "            # Записываем в список значение расстояния и ответа на объекте обучающей выборки\n",
    "            test_distances.append((distance, y_train[i], W))    \n",
    "        \n",
    "        # создаем словарь со всеми возможными классами\n",
    "        classes = {class_item: 0 for class_item in set(y_train)}\n",
    "        \n",
    "        # Сортируем список и среди первых k элементов подсчитаем частоту появления разных классов\n",
    "        for d in sorted(test_distances)[0:k]:\n",
    "            classes[d[1]] += 1\n",
    "\n",
    "        # Записываем в список ответов наиболее часто встречающийся класс\n",
    "        answers.append(sorted(classes, key=classes.get)[-1])\n",
    "        \n",
    "    return test_distances"
   ]
  },
  {
   "cell_type": "code",
   "execution_count": 54,
   "metadata": {},
   "outputs": [],
   "source": [
    "W = knn(X_train, y_train, X_test, k=2)"
   ]
  },
  {
   "cell_type": "code",
   "execution_count": 55,
   "metadata": {},
   "outputs": [
    {
     "data": {
      "text/plain": [
       "[(1.6643316977093243, 0, 0.3154904635941244),\n",
       " (1.9416487838947603, 0, 0.26031876486708017),\n",
       " (0.5000000000000004, 2, 0.7071067811865474),\n",
       " (1.0198039027185568, 1, 0.49318338328617395),\n",
       " (0.905538513813742, 1, 0.5338334031921536),\n",
       " (0.7810249675906655, 1, 0.5819531957067502),\n",
       " (0.5385164807134505, 1, 0.6884785057248053),\n",
       " (0.7810249675906652, 2, 0.5819531957067503),\n",
       " (0.632455532033676, 2, 0.6450775293555171),\n",
       " (0.5000000000000004, 1, 0.7071067811865474),\n",
       " (0.2828427124746193, 2, 0.8219697963558238),\n",
       " (1.5524174696260025, 0, 0.3409382878500177),\n",
       " (1.1180339887498945, 1, 0.46072123874484655),\n",
       " (0.5099019513592784, 1, 0.7022701640296091),\n",
       " (0.22360679774997916, 2, 0.8564216679239086),\n",
       " (1.8027756377319948, 0, 0.28662261739028494),\n",
       " (0.3605551275463989, 2, 0.7788648264187442),\n",
       " (0.6708203932499366, 1, 0.6281493864789098),\n",
       " (0.905538513813742, 1, 0.5338334031921536),\n",
       " (1.6155494421403513, 0, 0.3263406381403611),\n",
       " (1.8439088914585773, 0, 0.2785660040461978),\n",
       " (0.22360679774997896, 2, 0.8564216679239087),\n",
       " (0.5000000000000001, 2, 0.7071067811865475),\n",
       " (0.7999999999999998, 1, 0.5743491774985175),\n",
       " (0.7071067811865477, 2, 0.6125473265360658),\n",
       " (0.09999999999999964, 2, 0.9330329915368076),\n",
       " (2.109502310972898, 0, 0.23172694093318028),\n",
       " (1.8439088914585773, 0, 0.2785660040461978),\n",
       " (0.36055512754639923, 2, 0.778864826418744),\n",
       " (1.523154621172782, 0, 0.3479243070918582),\n",
       " (1.7204650534085255, 0, 0.30345088779835994),\n",
       " (1.2529964086141665, 0, 0.4195758630269068),\n",
       " (1.6124515496597096, 0, 0.32704214080126776),\n",
       " (0.20000000000000018, 2, 0.870550563296124),\n",
       " (1.3892443989449808, 0, 0.38176469637748395),\n",
       " (1.0770329614269007, 1, 0.4740026528450608),\n",
       " (0.5385164807134505, 2, 0.6884785057248053),\n",
       " (0.6324555320336757, 1, 0.6450775293555172),\n",
       " (0.3605551275463989, 2, 0.7788648264187442),\n",
       " (1.2000000000000002, 2, 0.435275281648062),\n",
       " (0.3605551275463989, 1, 0.7788648264187442),\n",
       " (0.5099019513592785, 1, 0.702270164029609),\n",
       " (0.20000000000000018, 2, 0.870550563296124),\n",
       " (1.216552506059644, 2, 0.4303097677311871),\n",
       " (0.31622776601683783, 1, 0.8031671864285276),\n",
       " (0.36055512754639923, 1, 0.778864826418744),\n",
       " (0.7000000000000002, 2, 0.615572206672458),\n",
       " (0.7071067811865477, 1, 0.6125473265360658),\n",
       " (0.7999999999999998, 1, 0.5743491774985175),\n",
       " (1.7204650534085255, 0, 0.30345088779835994),\n",
       " (0.5385164807134505, 2, 0.6884785057248053),\n",
       " (1.4317821063276353, 0, 0.37067273180986854),\n",
       " (0.40000000000000036, 2, 0.7578582832551989),\n",
       " (1.7204650534085255, 0, 0.30345088779835994),\n",
       " (2.0615528128088307, 0, 0.23955804802803757),\n",
       " (0.40000000000000036, 1, 0.7578582832551989),\n",
       " (1.6278820596099703, 0, 0.3235628638194607),\n",
       " (0.9219544457292891, 1, 0.5277935240661803),\n",
       " (0.9000000000000004, 2, 0.5358867312681465),\n",
       " (2.209072203437452, 0, 0.21627334841138646),\n",
       " (0.5656854249492386, 2, 0.6756343461212344),\n",
       " (1.6552945357246849, 0, 0.31747292482293354),\n",
       " (1.2806248474865696, 0, 0.41161719397441326),\n",
       " (0.44721359549995815, 2, 0.7334580732895696),\n",
       " (0.5385164807134505, 2, 0.6884785057248053),\n",
       " (1.5132745950421556, 0, 0.35031517876206925),\n",
       " (0.36055512754639923, 1, 0.778864826418744),\n",
       " (1.4212670403551895, 0, 0.37338424510381235),\n",
       " (1.4764823060233399, 0, 0.3593639744951852),\n",
       " (0.4123105625617663, 1, 0.7514189669936443),\n",
       " (0.728010988928052, 2, 0.6037356971044389),\n",
       " (1.3038404810405295, 1, 0.40504652038126543),\n",
       " (0.22360679774997896, 1, 0.8564216679239087),\n",
       " (1.726267650163207, 0, 0.3022328432308781),\n",
       " (1.5811388300841898, 0, 0.3342179606159001),\n",
       " (0.7211102550927978, 1, 0.6066304178323004),\n",
       " (0.4123105625617663, 2, 0.7514189669936443),\n",
       " (0.7280109889280519, 1, 0.603735697104439),\n",
       " (1.0440306508910548, 1, 0.48497065157926167),\n",
       " (0.5385164807134505, 2, 0.6884785057248053),\n",
       " (0.7071067811865477, 1, 0.6125473265360658),\n",
       " (0.20000000000000018, 2, 0.870550563296124),\n",
       " (1.9924858845171278, 0, 0.2513054937982204),\n",
       " (0.1414213562373093, 1, 0.9066254995067281),\n",
       " (0.09999999999999964, 2, 0.9330329915368076),\n",
       " (0.4472135954999583, 1, 0.7334580732895695),\n",
       " (0.8246211251235319, 1, 0.5646304639577958),\n",
       " (1.2529964086141665, 0, 0.4195758630269068),\n",
       " (1.4866068747318508, 0, 0.35685085278103923),\n",
       " (0.6324555320336757, 2, 0.6450775293555172),\n",
       " (0.8246211251235319, 1, 0.5646304639577958),\n",
       " (1.562049935181331, 2, 0.3386695219932991),\n",
       " (0.6403124237432851, 1, 0.6415739972710967),\n",
       " (1.5000000000000002, 0, 0.35355339059327373),\n",
       " (0.4123105625617664, 1, 0.7514189669936443),\n",
       " (1.216552506059644, 2, 0.4303097677311871),\n",
       " (0.8062257748298554, 2, 0.5718759837598248),\n",
       " (1.7204650534085255, 0, 0.30345088779835994),\n",
       " (1.7000000000000002, 0, 0.307786103336229),\n",
       " (0.2999999999999998, 2, 0.8122523963562356),\n",
       " (0.5000000000000004, 2, 0.7071067811865474),\n",
       " (1.5652475842498532, 0, 0.33791971209337884),\n",
       " (0.31622776601683805, 2, 0.8031671864285275),\n",
       " (1.7, 1, 0.3077861033362291),\n",
       " (0.948683298050514, 1, 0.5181051042807365),\n",
       " (1.0770329614269007, 1, 0.4740026528450608),\n",
       " (1.0630145812734653, 2, 0.4786308915658145),\n",
       " (1.8384776310850233, 0, 0.27961668761686964),\n",
       " (1.1180339887498945, 2, 0.46072123874484655),\n",
       " (0.2828427124746193, 1, 0.8219697963558238),\n",
       " (0.7071067811865477, 2, 0.6125473265360658),\n",
       " (1.2206555615733703, 0, 0.4290876961824213),\n",
       " (1.7204650534085255, 2, 0.30345088779835994),\n",
       " (1.711724276862369, 0, 0.3052949695639287),\n",
       " (0.8062257748298548, 1, 0.5718759837598251),\n",
       " (2.0615528128088303, 0, 0.23955804802803765),\n",
       " (1.5811388300841898, 1, 0.3342179606159001),\n",
       " (1.6155494421403513, 0, 0.3263406381403611),\n",
       " (1.9235384061671348, 0, 0.2636071840994769),\n",
       " (2.1377558326431947, 0, 0.2272329836577003)]"
      ]
     },
     "execution_count": 55,
     "metadata": {},
     "output_type": "execute_result"
    }
   ],
   "source": [
    "W"
   ]
  },
  {
   "cell_type": "markdown",
   "metadata": {
    "id": "7DVrbUPyuf-X"
   },
   "source": [
    "Напишем функцию для вычисления точности"
   ]
  },
  {
   "cell_type": "code",
   "execution_count": 13,
   "metadata": {
    "id": "eK2Bn_7ouf-Y"
   },
   "outputs": [],
   "source": [
    "def accuracy(pred, y):\n",
    "    return (sum(pred == y) / len(y))"
   ]
  },
  {
   "cell_type": "markdown",
   "metadata": {
    "id": "SprqYVBQuf-a"
   },
   "source": [
    "Проверим работу алгоритма при различных k"
   ]
  },
  {
   "cell_type": "code",
   "execution_count": 14,
   "metadata": {
    "id": "8K98g57quf-a",
    "outputId": "be768ef7-9825-4ffb-9dc6-516565e92263"
   },
   "outputs": [
    {
     "name": "stdout",
     "output_type": "stream",
     "text": [
      "Точность алгоритма при k = 2: 0.733\n"
     ]
    }
   ],
   "source": [
    "k = 2\n",
    "\n",
    "y_pred = knn(X_train, y_train, X_test, k)\n",
    "\n",
    "print(f'Точность алгоритма при k = {k}: {accuracy(y_pred, y_test):.3f}')"
   ]
  },
  {
   "cell_type": "markdown",
   "metadata": {
    "id": "YahR_F7xuf-d"
   },
   "source": [
    "Построим график распределения классов."
   ]
  },
  {
   "cell_type": "code",
   "execution_count": 15,
   "metadata": {
    "id": "vN4DDyMauf-e"
   },
   "outputs": [],
   "source": [
    "def get_graph(X_train, y_train, k):\n",
    "    cmap_light = ListedColormap(['#FFAAAA', '#AAFFAA','#00AAFF'])\n",
    "\n",
    "    h = .1\n",
    "\n",
    "    # Расчет пределов графика\n",
    "    x_min, x_max = X_train[:, 0].min() - 1, X_train[:, 0].max() + 1\n",
    "    y_min, y_max = X_train[:, 1].min() - 1, X_train[:, 1].max() + 1\n",
    "    xx, yy = np.meshgrid(np.arange(x_min, x_max, h), np.arange(y_min, y_max, h))\n",
    "    print(np.c_[xx.ravel(), yy.ravel()].shape)\n",
    "\n",
    "    # Получим предсказания для всех точек\n",
    "    Z = knn(X_train, y_train, np.c_[xx.ravel(), yy.ravel()], k)\n",
    "    # Построим график\n",
    "    Z = np.array(Z).reshape(xx.shape)\n",
    "    plt.figure(figsize=(7,7))\n",
    "    plt.pcolormesh(xx, yy, Z, cmap=cmap_light)\n",
    "\n",
    "    # Добавим на график обучающую выборку\n",
    "    plt.scatter(X_train[:, 0], X_train[:, 1], c=y_train, cmap=cmap)\n",
    "    plt.xlim(xx.min(), xx.max())\n",
    "    plt.ylim(yy.min(), yy.max())\n",
    "    plt.title(f\"Трехклассовая kNN классификация при k = {k}\")\n",
    "    plt.show()"
   ]
  },
  {
   "cell_type": "code",
   "execution_count": 16,
   "metadata": {
    "id": "B0twiiFZuf-i",
    "outputId": "81463ebb-c1a8-47ff-ff83-a6b1dd4aec39"
   },
   "outputs": [
    {
     "name": "stdout",
     "output_type": "stream",
     "text": [
      "(2352, 2)\n"
     ]
    },
    {
     "data": {
      "image/png": "[encoded data removed]",
      "text/plain": [
       "<Figure size 504x504 with 1 Axes>"
      ]
     },
     "metadata": {
      "needs_background": "light"
     },
     "output_type": "display_data"
    },
    {
     "name": "stdout",
     "output_type": "stream",
     "text": [
      "Wall time: 2.23 s\n"
     ]
    }
   ],
   "source": [
    "%%time\n",
    "get_graph(X_train, y_train, k)"
   ]
  },
  {
   "cell_type": "code",
   "execution_count": 17,
   "metadata": {
    "id": "_HyO60dnuf-l",
    "outputId": "41fd701f-8531-4efb-90eb-9f394051e35a"
   },
   "outputs": [
    {
     "name": "stdout",
     "output_type": "stream",
     "text": [
      "Точность алгоритма при k = 3: 0.733\n"
     ]
    }
   ],
   "source": [
    "k = 3\n",
    "\n",
    "y_pred = knn(X_train, y_train, X_test, k)\n",
    "\n",
    "print(f'Точность алгоритма при k = {k}: {accuracy(y_pred, y_test):.3f}')"
   ]
  },
  {
   "cell_type": "code",
   "execution_count": 18,
   "metadata": {
    "id": "zuxShjfxuf-n",
    "outputId": "21f96cdd-2d09-4cf2-d943-7835c2e222e7"
   },
   "outputs": [
    {
     "name": "stdout",
     "output_type": "stream",
     "text": [
      "(2352, 2)\n"
     ]
    },
    {
     "data": {
      "image/png": "[encoded data removed]",
      "text/plain": [
       "<Figure size 504x504 with 1 Axes>"
      ]
     },
     "metadata": {
      "needs_background": "light"
     },
     "output_type": "display_data"
    },
    {
     "name": "stdout",
     "output_type": "stream",
     "text": [
      "Wall time: 2.24 s\n"
     ]
    }
   ],
   "source": [
    "%%time\n",
    "get_graph(X_train, y_train, k)"
   ]
  },
  {
   "cell_type": "code",
   "execution_count": 19,
   "metadata": {
    "id": "v276kSfFuf-q",
    "outputId": "0dc08804-d25b-4764-c798-0287ab74690e"
   },
   "outputs": [
    {
     "name": "stdout",
     "output_type": "stream",
     "text": [
      "Точность алгоритма при k = 5: 0.733\n"
     ]
    }
   ],
   "source": [
    "k = 5\n",
    "\n",
    "y_pred = knn(X_train, y_train, X_test, k)\n",
    "\n",
    "print(f'Точность алгоритма при k = {k}: {accuracy(y_pred, y_test):.3f}')"
   ]
  },
  {
   "cell_type": "code",
   "execution_count": 20,
   "metadata": {
    "id": "N0uMulUpuf-u",
    "outputId": "16611f87-8ab1-4ac2-f4ef-79dedd7847db"
   },
   "outputs": [
    {
     "name": "stdout",
     "output_type": "stream",
     "text": [
      "(2352, 2)\n"
     ]
    },
    {
     "data": {
      "image/png": "[encoded data removed]",
      "text/plain": [
       "<Figure size 504x504 with 1 Axes>"
      ]
     },
     "metadata": {
      "needs_background": "light"
     },
     "output_type": "display_data"
    },
    {
     "name": "stdout",
     "output_type": "stream",
     "text": [
      "Wall time: 2.25 s\n"
     ]
    }
   ],
   "source": [
    "%%time\n",
    "get_graph(X_train, y_train, k)"
   ]
  },
  {
   "cell_type": "code",
   "execution_count": 21,
   "metadata": {
    "id": "i-FpThNiuf-0",
    "outputId": "332854a5-a1e9-4e4e-dc6e-b5b15f1acd81"
   },
   "outputs": [
    {
     "name": "stdout",
     "output_type": "stream",
     "text": [
      "Точность алгоритма при k = 10: 0.767\n"
     ]
    }
   ],
   "source": [
    "k = 10\n",
    "\n",
    "y_pred = knn(X_train, y_train, X_test, k)\n",
    "\n",
    "print(f'Точность алгоритма при k = {k}: {accuracy(y_pred, y_test):.3f}')"
   ]
  },
  {
   "cell_type": "code",
   "execution_count": 22,
   "metadata": {
    "id": "U1nSITJluf-3",
    "outputId": "49d8fca3-4aaf-4c74-9ef8-15133b13f7d8"
   },
   "outputs": [
    {
     "name": "stdout",
     "output_type": "stream",
     "text": [
      "(2352, 2)\n"
     ]
    },
    {
     "data": {
      "image/png": "[encoded data removed]",
      "text/plain": [
       "<Figure size 504x504 with 1 Axes>"
      ]
     },
     "metadata": {
      "needs_background": "light"
     },
     "output_type": "display_data"
    },
    {
     "name": "stdout",
     "output_type": "stream",
     "text": [
      "Wall time: 2.24 s\n"
     ]
    }
   ],
   "source": [
    "%%time\n",
    "get_graph(X_train, y_train, k)"
   ]
  },
  {
   "cell_type": "markdown",
   "metadata": {
    "id": "QHVr1RTKuf-6"
   },
   "source": [
    "При увеличении k мы на графиках наблюдаем, как алгоритм меньше концентрируется на выбросах, однако, точность на тестовой выборке при этом увеличивается."
   ]
  },
  {
   "cell_type": "markdown",
   "metadata": {},
   "source": [
    "Рассматриваемый метод, несмотря на положительные стороны в виде легкости интерпретации, простоты и удобства использования, обладает некоторыми минусами, в частности, он плохо работает на датасетах с большим количеством признаков.\n",
    "\n",
    "Например, если мы имеем три объекта, при этом второй отличается от первого только значением одного признака, но значительно, а третий отличается от первого незначительно в каждом признаке, расстояния от первого объекта до второго и третьего могут совпадать. Несущественные различия в каждом признаке могут иметь большее значение, чем большое различие в одном признаке. Такое поведение в ряде случаев будет нежелательным. \n"
   ]
  },
  {
   "cell_type": "code",
   "execution_count": 23,
   "metadata": {},
   "outputs": [
    {
     "data": {
      "text/plain": [
       "100.0"
      ]
     },
     "execution_count": 23,
     "metadata": {},
     "output_type": "execute_result"
    }
   ],
   "source": [
    "x = np.zeros((2000))\n",
    "y = np.zeros((2000))\n",
    "y[2] = 100\n",
    "\n",
    "e_metrics(x, y)"
   ]
  },
  {
   "cell_type": "code",
   "execution_count": 24,
   "metadata": {},
   "outputs": [
    {
     "data": {
      "text/plain": [
       "44.721359549995796"
      ]
     },
     "execution_count": 24,
     "metadata": {},
     "output_type": "execute_result"
    }
   ],
   "source": [
    "x = np.zeros((2000))\n",
    "z = np.ones((2000))\n",
    "e_metrics(x, z)"
   ]
  },
  {
   "cell_type": "markdown",
   "metadata": {
    "id": "qbAXUnqUuf-7"
   },
   "source": [
    "Второй пример - случай, когда количество признаком сравнимо с количеством объектов. В этом случае может возникнуть ситуация, когда расстояния между любыми двумя объектами почти одинаковы. В двумерном пространстве (на плоскости) три точки могут располагаться по вершинам равностороннего треугольника, при этом расстояния между ними будут равны; в трехмерном пространстве то же самое справедливо для четырех точек на вершинах тетраэдра - расстояние между любыми двумя точками будет одинаково. В общем случае это означает, что в $n$-мерном пространстве можно выбрать $n+1$ точку так, чтобы расстояние между любыми двумя точками было одинаковым.\n",
    "\n",
    "<img src='images/trtet.png' width=400px>\n",
    "\n",
    "Третий пример - так называемое \"проклятие размерности\". Суть его заключается в том, что при наличии $n$ бинарных признаков в пространстве признаков будет возможно $2^{n}$ различных объектов вида $x = (0,1,0,0,1,...,1)$, и размер обучающей выборки, необходимый, чтобы описать все пространство объектов (то есть все возможные комбинации таких признаков) также будет порядка $2^{n}$. Чтобы покрыть не все пространство, а долю объектов $\\alpha$ (то есть долю объема $\\alpha$) нужно будет описать гиперкуб с длиной ребра $e_{p} = \\alpha^{n}$. Например, в 10-мерном пространстве признаков чтобы покрыть 1% объема нужно взять гиперкуб с длиной $e_{10}(0,01) = 0.63$, то есть взять окрестность длиной больше половины ребра исходного пространства. Чем больше признаков, тем меньше будет область, которая покрывается во время поиска на заданном расстоянии. Таким образом, при сохранении требований по точности нахождения объекта в пространстве, количество требуемых данных для этого при увеличении количества признаков растет экспоненциально (подробнее про это явление см. в доп. материалах).\n",
    "\n",
    "Рассмотрим для примера куб с ребром 1 и в нем рассмотрим куб с ребром $\\frac{1}{2}$. Посмотрим, какую долю он будет занимать в первом кубе.\n",
    "<img src='images/curse.png' width=400px>"
   ]
  },
  {
   "cell_type": "markdown",
   "metadata": {
    "id": "b6H4U6Fcuf-8"
   },
   "source": [
    "## Обучение без учителя. Кластеризация. K-means<a class='anchor' id='unsupervised'>"
   ]
  },
  {
   "cell_type": "markdown",
   "metadata": {
    "id": "X38-NciTuf-9"
   },
   "source": [
    "До этого мы рассматривали методы обучения с учителем, то есть задачи, в которых изначально есть размеченная обучающая выборка данных с известными ответами на них и тестовая выборка, на которой проверяется качество алгоритма. В этом разделе речь пойдет об _обучении без учителя (unsupervised learning)_ - случае, когда в роли обучающей выборки выступает просто набор объектов $x_{1},...,x_{l}$, и он же выступает в роли тестовой выборки, а задача состоит в проставлении меток $y_{1},...,y_{l}$ так, что бы объекты с одной и той же меткой были похожи, а с разными - нет. То есть все объекты в пространстве признаков нужно разделить на группы, найти структуру в данных. Это и называется _кластеризацией_. Если раньше мы имели примеры ответов $y$, то сейчас их нет, и нужно строить свои отображения $x \\rightarrow y$, отвечающие некоторым свойствам, например, тому, что похожие объекты отображаются в одну метку, а непохожие - в разные. По-простому задачу кластеризации можно сформулировать так: имеется множество точек, которые скапливаются в кластера, нужно найти возможность относить точки к тому или иному кластеру и предсказывать, в какой кластер попадет новая точка."
   ]
  },
  {
   "cell_type": "markdown",
   "metadata": {},
   "source": [
    "<img src='images/clusters.png' width=600px>"
   ]
  },
  {
   "cell_type": "markdown",
   "metadata": {
    "id": "9cba7q4vuf--"
   },
   "source": [
    "Примерами кластеризации может быть группирование новостей по темам, музыки по жанрам, клиентов по типу поведения и т.д."
   ]
  },
  {
   "cell_type": "markdown",
   "metadata": {
    "id": "L5fLWrfFuf-_"
   },
   "source": [
    "Логично возникает вопрос, как измерять качество кластеризации. Есть большое количество инструментов оценки качества кластеризации, они разделяются на _внутренние_ (основанные только на свойствах выборки и кластеров) и _внешние_ (использующие данные об истинном распределении объектов по кластерам, если оно известно)."
   ]
  },
  {
   "cell_type": "markdown",
   "metadata": {
    "id": "O1Oyn7heuf_A"
   },
   "source": [
    "## Внутренние метрики <a class='anchor' id='in'>\n",
    "\n",
    "- Внутрикластерное расстояние (также называется компактностью кластеров, cluster cohesion): $$\\sum_{k=1}^{K}\\sum_{i=1}^{l}[a(x_{i})=k]\\rho(x_{i}, c_{k}),$$ где $K$ - количество кластеров, $c_{k}$ - центр кластера. Этот функционал нужно минимизировать, так как в идеальном случае все объекты в одном кластере одинаковы, и расстояние между ними равно нулю.\n",
    "\n",
    "\n",
    "- Межкластерное расстояние (отделимость кластеров, cluster separation): $$\\sum_{i,j=1}^{l}[a(x_{i}) \\neq a(x_{j})]\\rho(x_{i}, x_{j}).$$ Этот функционал наоборот нужно максимизировать, так как объекты из разных кластеров должны максимально различаться, то есть иметь максимальное расстояние между собой.\n"
   ]
  },
  {
   "cell_type": "markdown",
   "metadata": {},
   "source": [
    "- Часто используются те же формулы, но включающие не расстояние ρ, а его квадрат, получая квадратичное внутрикластерное и межкластерное расстояние:\n",
    "\n",
    "    $$\\sum_{k=1}^{K}\\sum_{i=1}^{l}[a(x_{i})=k]\\rho^{2}(x_{i}, c_{k}),$$\n",
    "    $$\\sum_{i,j=1}^{l}[a(x_{i}) \\neq a(x_{j})]\\rho^{2}(x_{i}, x_{j}).$$\n",
    "\n",
    "\n",
    "- Среднее внутрикластерное расстояние (среднее расстояние внутри каждого кластера, просуммированное по всем кластерам) и среднее межкластерное расстояние (минимизируется и максимизируется, соответственно, по аналогии с двумя первыми функционалами):\n",
    "\n",
    "    $$\\sum_{k=1}^{K}\\frac{1}{|k|}\\sum_{i=1}^{l}[a(x_{i})=k]\\rho(x_{i}, c_{k}),$$\n",
    "    $$\\frac{1}{K}\\sum_{i,j=1}^{l}[a(x_{i}) \\neq a(x_{j})]\\rho(x_{i}, x_{j}),$$ где $|k|$ - количество элементов в кластере под номером $k$.\n",
    "\n",
    "- По аналогии с квадратичным внутрикластерным и межкластерным расстоянием - среднее квадратичное внутрикластерное и межкластерное расстояние.\n",
    "\n",
    "    $$\\sum_{k=1}^{K}\\frac{1}{|k|}\\sum_{i=1}^{l}[a(x_{i})=k]\\rho^{2}(x_{i}, c_{k}),$$\n",
    "    $$\\frac{1}{K}\\sum_{i,j=1}^{l}[a(x_{i}) \\neq a(x_{j})]\\rho^{2}(x_{i}, x_{j}).$$ \n",
    "    \n",
    "- Силуэт (Silhouette) является мерой того, насколько объект похож на свой собственный кластер (сплоченность) по сравнению с другими кластерами (разделение).\n",
    "$$s = \\frac{1}{n}\\sum{\\frac{b-a}{max(a, b)},}$$\n",
    "где а — среднее расстояние от данного объекта до объектов из того же кластера, b — среднее расстояние от данного объекта до объектов из ближайшего кластера (отличного от того, в котором лежит сам объект)\n",
    "\n",
    "<img src='images/silhouette.png' width=400>\n",
    "\n",
    "\n"
   ]
  },
  {
   "cell_type": "markdown",
   "metadata": {
    "id": "86Fs9Fbeuf_A"
   },
   "source": [
    "## **Внешние метрики** <a class='anchor' id='out'>\n",
    "Эти метрики используются, если есть дополнительные знания о кластеризуемой выборке, например, известно истинное распределение по кластерам. Задачу можно рассматривать как задачу многоклассовой классификации с использованием соответствующих метрик. В этом случае примерами могут быть:"
   ]
  },
  {
   "cell_type": "code",
   "execution_count": 25,
   "metadata": {},
   "outputs": [],
   "source": [
    "true = [0, 0, 0, 1, 1, 1]\n",
    "pred = [0, 0, 0, 1, 1, 1]\n",
    "\n",
    "\n",
    "true = [0, 0, 0, 1, 1, 1]\n",
    "pred = [1, 1, 1, 0, 0, 0]"
   ]
  },
  {
   "cell_type": "markdown",
   "metadata": {},
   "source": [
    "### - Rand Index (RI) \n",
    "Доля объектов, для которых разбиения (исходное и полученное в результате кластеризации) \"согласованы\".\n",
    " $$Rand = \\frac{a+b}{a+b+c+d} = \\frac{a+b}{{n \\choose 2 }}, где$$\n",
    " \n",
    " $ {n \\choose 2} = {\\frac{n(n-1)}{2}}$\n",
    "\n",
    "Здесь количество пар объектов $(x_{i}.x_{j})$, \n",
    " - а - принадлежат одному кластеру и одному классу,\n",
    " - b - принадлежат разным кластерам и разным классам,\n",
    " - c - принадлежат разным кластерам, но одному классу,\n",
    " - d - принадлежат одному кластеру, но разным классам.\n",
    " \n",
    "Этот индекс оценивает, сколько пар объектов, находившихся в одном классе, и пар объектов, находившихся в разных классах, сохранили это состояние после работы алгоритма. Он принимает значение от 0 до 1, где 1 - полное совпадение полученных кластеров и исходными классами, 0 - полное отсутствие совпадений."
   ]
  },
  {
   "cell_type": "code",
   "execution_count": 26,
   "metadata": {},
   "outputs": [],
   "source": [
    "from sklearn.metrics.cluster import contingency_matrix#, pair_confusion_matrix\n",
    "\n",
    "\n",
    "def pair_confusion_matrix(labels_true, labels_pred):\n",
    "    n_samples = np.int64(len(labels_true))\n",
    "    contingency = contingency_matrix(\n",
    "        labels_true, labels_pred\n",
    "    )\n",
    "    n_c = contingency.sum(axis=1)\n",
    "    n_k = contingency.sum(axis=0)\n",
    "    sum_squares = (contingency ** 2).sum()\n",
    "    C = np.empty((2, 2), dtype=np.int64)\n",
    "    \n",
    "    C[1, 1] = sum_squares - n_samples\n",
    "    C[0, 1] = contingency.dot(n_k).sum() - sum_squares\n",
    "    C[1, 0] = contingency.T.dot(n_c).sum() - sum_squares\n",
    "    C[0, 0] = n_samples ** 2 - C[0, 1] - C[1, 0] - sum_squares\n",
    "    return C"
   ]
  },
  {
   "cell_type": "code",
   "execution_count": 27,
   "metadata": {},
   "outputs": [],
   "source": [
    "true = [0, 0, 0, 1, 1, 1]\n",
    "pred = [0, 1, 1, 0, 1, 2]"
   ]
  },
  {
   "cell_type": "code",
   "execution_count": 28,
   "metadata": {},
   "outputs": [
    {
     "ename": "SyntaxError",
     "evalue": "invalid syntax (<ipython-input-28-2ded970dcdbe>, line 2)",
     "output_type": "error",
     "traceback": [
      "\u001b[1;36m  File \u001b[1;32m\"<ipython-input-28-2ded970dcdbe>\"\u001b[1;36m, line \u001b[1;32m2\u001b[0m\n\u001b[1;33m    0 0 (кластер 1) (разные кластеры, одинаковые классы)\u001b[0m\n\u001b[1;37m      ^\u001b[0m\n\u001b[1;31mSyntaxError\u001b[0m\u001b[1;31m:\u001b[0m invalid syntax\n"
     ]
    }
   ],
   "source": [
    "# Все пары для первого объекта (0 класс, 0 кластер)\n",
    "0 0 (кластер 1) (разные кластеры, одинаковые классы)\n",
    "0 0 (кластер 1) (разные кластеры, одинаковые классы)\n",
    "0 1 (кластер 0) (одинаковые кластеры, разные классы)\n",
    "0 1 (кластер 1) (разные кластеры, разные классы)\n",
    "0 1 (кластер 2) (разные кластеры, разные классы)\n",
    "\n",
    "\n",
    "# Все пары для второго объекта (0 класс, 1 кластер)\n",
    "0 0 (кластер 0) (разные кластеры, одинаковые классы)\n",
    "0 0 (кластер 1) (одинаковые кластеры, одинаковые классы)\n",
    "0 1 (кластер 0) (разные кластеры, разные классы)\n",
    "0 1 (кластер 1) (одинаковые кластеры, разные классы)\n",
    "0 1 (кластер 2) (разные кластеры, разные классы)\n",
    "\n",
    "\n",
    "# Все пары для третьего объекта (0 класс, 1 кластер)\n",
    "0 0 (кластер 0) (разные кластеры, одинаковые классы)\n",
    "0 0 (кластер 1) (одинаковые кластеры, одинаковые классы)\n",
    "0 1 (кластер 0) (разные кластеры, разные классы)\n",
    "0 1 (кластер 1) (одинаковые кластеры, разные классы)\n",
    "0 1 (кластер 2) (разные кластеры, разные классы)\n",
    "\n",
    "\n",
    "# Все пары для четвертого объекта (1 класс, 0 кластер)\n",
    "1 0 (кластер 0) (одинаковые кластеры, разные классы)\n",
    "1 0 (кластер 1) (разные кластеры, разные классы)\n",
    "1 0 (кластер 1) (разные кластеры, разные классы)\n",
    "1 1 (кластер 1) (разные кластеры, одинаковые классы)\n",
    "1 1 (кластер 2) (разные кластеры, одинаковые классы)\n",
    "\n",
    "\n",
    "# Все пары для пятого объекта (1 класс, 1 кластер)\n",
    "1 0 (кластер 0) (разные кластеры, разные классы)\n",
    "1 0 (кластер 1) (одинаковые кластеры, разные классы)\n",
    "1 0 (кластер 1) (одинаковые кластеры, разные классы)\n",
    "1 1 (кластер 0) (разные кластеры, одинаковые классы)\n",
    "1 1 (кластер 2) (разные кластеры, одинаковые классы)\n",
    "\n",
    "\n",
    "# Все пары для шестого объекта (1 класс, 2 кластер)\n",
    "1 0 (кластер 0) (разные кластеры, разные классы)\n",
    "1 0 (кластер 1) (разные кластеры, разные классы)\n",
    "1 0 (кластер 1) (разные кластеры, разные классы)\n",
    "1 1 (кластер 0) (разные кластеры, одинаковые классы)\n",
    "1 1 (кластер 1) (разные кластеры, одинаковые классы)"
   ]
  },
  {
   "cell_type": "code",
   "execution_count": null,
   "metadata": {},
   "outputs": [],
   "source": [
    "true = [0, 0, 0, 1, 1, 1]\n",
    "pred = [0, 1, 1, 0, 1, 2]"
   ]
  },
  {
   "cell_type": "code",
   "execution_count": null,
   "metadata": {},
   "outputs": [],
   "source": [
    "a: принадлежат одному кластеру и одному классу\n",
    "    0 - \n",
    "    0 - 1\n",
    "    0 - 1\n",
    "    1 - \n",
    "    1 -\n",
    "    1 - \n",
    "b: принадлежат разным кластерам и разным классам\n",
    "    0 - 2\n",
    "    0 - 2\n",
    "    0 - 2\n",
    "    1 - 2\n",
    "    1 - 1\n",
    "    1 - 3\n",
    "c: принадлежат разным кластерам, но одному классу\n",
    "    0 - 2\n",
    "    0 - 1\n",
    "    0 - 1\n",
    "    1 - 2\n",
    "    1 - 2\n",
    "    1 - 2\n",
    "d: принадлежат одному кластеру, но разным классам\n",
    "    0 - 1\n",
    "    0 - 1\n",
    "    0 - 1\n",
    "    1 - 1\n",
    "    1 - 2\n",
    "    1 - "
   ]
  },
  {
   "cell_type": "code",
   "execution_count": null,
   "metadata": {},
   "outputs": [],
   "source": [
    "# b d\n",
    "# c a\n",
    "\n",
    "pair_confusion_matrix(true, pred)"
   ]
  },
  {
   "cell_type": "code",
   "execution_count": null,
   "metadata": {},
   "outputs": [],
   "source": [
    "def rand_index(labels_true, labels_pred):\n",
    "    contingency = pair_confusion_matrix(labels_true, labels_pred)\n",
    "    numerator = contingency.diagonal().sum()\n",
    "    denominator = contingency.sum()\n",
    "\n",
    "    return numerator / denominator"
   ]
  },
  {
   "cell_type": "code",
   "execution_count": null,
   "metadata": {},
   "outputs": [],
   "source": [
    "true = [0, 0, 0, 1, 1, 1]\n",
    "pred = [0, 1, 1, 0, 1, 2]"
   ]
  },
  {
   "cell_type": "code",
   "execution_count": null,
   "metadata": {},
   "outputs": [],
   "source": [
    "rand_index(true, pred)"
   ]
  },
  {
   "cell_type": "code",
   "execution_count": null,
   "metadata": {},
   "outputs": [],
   "source": [
    "contingency_matrix(\n",
    "        true, pred\n",
    "    )"
   ]
  },
  {
   "cell_type": "markdown",
   "metadata": {},
   "source": [
    "### - Adjusted Rand Index (ARI)\n",
    "\n",
    "Нормированная доля объектов, для которых разбиения (исходное и полученное в результате кластеризации) \"согласованы\".\n",
    "\n",
    "\n",
    "$$ARI= {\\frac {\\left.\\sum _{ij}{\\binom {n_{ij}}{2}}-\\left[\\sum _{i}{\\binom {a_{i}}{2}}\\sum _{j}{\\binom {b_{j}}{2}}\\right]\\right/{\\binom {n}{2}}}{\\left.{\\frac {1}{2}}\\left[\\sum _{i}{\\binom {a_{i}}{2}}+\\sum _{j}{\\binom {b_{j}}{2}}\\right]-\\left[\\sum _{i}{\\binom {a_{i}}{2}}\\sum _{j}{\\binom {b_{j}}{2}}\\right]\\right/{\\binom {n}{2}}}} =  {\\frac {2 * (a*d - b*c)}{(a+b) * (b+d) + (a + c) * (c + d)}}$$\n",
    "\n",
    "<img src='images/contingency_table.png' width=250>\n",
    "\n",
    "Принимает значения в диапазоне [−1,1]\n"
   ]
  },
  {
   "cell_type": "code",
   "execution_count": null,
   "metadata": {},
   "outputs": [],
   "source": [
    "def adj_rand_index(labels_true, labels_pred):\n",
    "    (d, c), (b, a) = pair_confusion_matrix(labels_true, labels_pred)\n",
    "\n",
    "    # Special cases: empty data or full agreement\n",
    "    if b == 0 and c == 0:\n",
    "        return 1.0\n",
    "\n",
    "    return 2. * (a * d - b * c) / ((a + b) * (b + d) +\n",
    "                                       (a + c) * (c + d))"
   ]
  },
  {
   "cell_type": "code",
   "execution_count": null,
   "metadata": {},
   "outputs": [],
   "source": [
    "adj_rand_index(true, pred)"
   ]
  },
  {
   "cell_type": "markdown",
   "metadata": {},
   "source": [
    "### - Homogenity, Completeness, V-measure\n",
    "\n",
    "Определяются с использованием функций энтропии\n",
    "K — результат кластеризации, C — истинное разбиение выборки на классы\n",
    "\n",
    "**Гомогенность** измеряет, насколько каждый кластер состоит из объектов одного класса.\n",
    "\n",
    "\n",
    "$$h = 1 - \\frac{H(C|K)}{H(C)}$$\n",
    "\n",
    "$$H(C|K) = - \\sum_{j=1}^m{\\sum_{i=1}^n{p(c_i, k_j)\\log \\frac{p(c_i, k_j)}{p(k_i)}}}$$\n",
    "\n",
    "$$H(C) = - \\sum_{i=1}^n{p(c_i)\\log p(c_i)}$$"
   ]
  },
  {
   "cell_type": "markdown",
   "metadata": {},
   "source": [
    "**Полнота** измеряет, насколько объекты одного класса относятся к одному кластеру.\n",
    "\n",
    "$$c = 1 - \\frac{H(K|C)}{H(K)}$$\n",
    "\n",
    "$$H(K|C) = - \\sum_{j=1}^m{\\sum_{i=1}^n{p(k_i, c_j)\\log \\frac{p(k_i, c_j)}{p(c_i)}}}$$\n",
    "\n",
    "$$H(K) = - \\sum_{i=1}^n{p(k_i)\\log p(k_i)}$$"
   ]
  },
  {
   "cell_type": "markdown",
   "metadata": {},
   "source": [
    "\n",
    "**V-мера**\n",
    "\n",
    "Для учёта гомогенности и полноты одновременно вводится V-мера, как их среднее гармоническое:\n",
    "\n",
    "$$v = 2\\frac{hc}{h+c}$$\n",
    "\n",
    "Принимают значения в диапазоне [0,1]"
   ]
  },
  {
   "cell_type": "code",
   "execution_count": null,
   "metadata": {},
   "outputs": [],
   "source": [
    "true = np.array([0, 0, 0, 1, 1, 1])\n",
    "pred = np.array([0, 1, 1, 0, 1, 2])"
   ]
  },
  {
   "cell_type": "code",
   "execution_count": null,
   "metadata": {},
   "outputs": [],
   "source": [
    "cm = contingency_matrix(true, pred)\n",
    "cm"
   ]
  },
  {
   "cell_type": "markdown",
   "metadata": {},
   "source": [
    "**Гомогенность**\n",
    "$$H(C|K) = - \\sum_{j=1}^m{\\sum_{i=1}^n{p(c_i, k_j)\\log \\frac{p(c_i, k_j)}{p(k_i)}}}$$\n",
    "\n",
    "$$H(C) = - \\sum_{i=1}^n{p(c_i)\\log p(c_i)}$$"
   ]
  },
  {
   "cell_type": "code",
   "execution_count": null,
   "metadata": {},
   "outputs": [],
   "source": [
    "cm"
   ]
  },
  {
   "cell_type": "code",
   "execution_count": null,
   "metadata": {},
   "outputs": [],
   "source": [
    "h_c_k = 0\n",
    "for j in range(cm.shape[1]):\n",
    "    for i in range(cm.shape[0]):\n",
    "        size = np.sum(cm)\n",
    "        p_c_k = cm[i][j] / size\n",
    "        p_k = np.sum(cm[:, j]) / size\n",
    "        if p_c_k == 0:\n",
    "            continue\n",
    "        h_c_k += p_c_k * np.log2(p_c_k / p_k)\n",
    "        \n",
    "h_c = 0\n",
    "for i in range(cm.shape[0]):\n",
    "    size = np.sum(cm)\n",
    "    p_c = np.sum(cm[i]) / size\n",
    "\n",
    "    h_c += p_c * np.log2(p_c)\n",
    "        \n",
    "h = 1 - h_c_k/ h_c\n",
    "h"
   ]
  },
  {
   "cell_type": "markdown",
   "metadata": {},
   "source": [
    "**Полнота**\n",
    "\n",
    "$$H(K|C) = - \\sum_{j=1}^m{\\sum_{i=1}^n{p(k_i, c_j)\\log \\frac{p(k_i, c_j)}{p(c_i)}}}$$\n",
    "\n",
    "$$H(K) = - \\sum_{i=1}^n{p(k_i)\\log p(k_i)}$$\n"
   ]
  },
  {
   "cell_type": "code",
   "execution_count": null,
   "metadata": {},
   "outputs": [],
   "source": [
    "true = np.array([0, 0, 0, 1, 1, 1])\n",
    "pred = np.array([0, 1, 1, 0, 1, 2])"
   ]
  },
  {
   "cell_type": "code",
   "execution_count": null,
   "metadata": {},
   "outputs": [],
   "source": [
    "cm = contingency_matrix(true, pred)\n",
    "cm"
   ]
  },
  {
   "cell_type": "code",
   "execution_count": null,
   "metadata": {},
   "outputs": [],
   "source": [
    "h_k_c = 0\n",
    "for j in range(cm.shape[0]):\n",
    "    for i in range(cm.shape[1]):\n",
    "        size = np.sum(cm)\n",
    "        p_k_c = cm[j][i] / size\n",
    "        p_c = np.sum(cm[j]) / size\n",
    "        \n",
    "        if p_k_c == 0:\n",
    "            continue\n",
    "        h_k_c += p_k_c * np.log2((p_k_c / p_c) + 1e-18)\n",
    "        \n",
    "h_k = 0\n",
    "for i in range(cm.shape[1]):\n",
    "    size = np.sum(cm)\n",
    "    p_k = np.sum(cm[:, i]) / size\n",
    "\n",
    "    h_k += p_k * np.log2(p_k + 1e-18)\n",
    "h_k += 1e-18\n",
    "        \n",
    "c = 1 - h_k_c/ h_k\n",
    "c"
   ]
  },
  {
   "cell_type": "markdown",
   "metadata": {},
   "source": [
    "**V-мера**\n",
    "\n",
    "$$v = 2\\frac{hc}{h+c}$$\n"
   ]
  },
  {
   "cell_type": "code",
   "execution_count": null,
   "metadata": {},
   "outputs": [],
   "source": [
    "2 * h * c / (h + c)"
   ]
  },
  {
   "cell_type": "code",
   "execution_count": null,
   "metadata": {},
   "outputs": [],
   "source": [
    "from sklearn.metrics.cluster import homogeneity_completeness_v_measure\n",
    "homogeneity_completeness_v_measure(true, pred)"
   ]
  },
  {
   "cell_type": "markdown",
   "metadata": {
    "id": "5POKW_CGuf_B"
   },
   "source": [
    "Про другие внутренние и внешние метрики качества кластеризации можно почитать в дополнительных материалах."
   ]
  },
  {
   "cell_type": "markdown",
   "metadata": {
    "id": "oq8LyMncuf_B"
   },
   "source": [
    "### Алгоритм K-means (K-средних)<a class='anchor' id='kmeans'>"
   ]
  },
  {
   "cell_type": "markdown",
   "metadata": {},
   "source": [
    "<img src='images/kmeans.png' width=800px>"
   ]
  },
  {
   "cell_type": "markdown",
   "metadata": {
    "id": "Slqzj4Siuf_C"
   },
   "source": [
    "Одним из самых простых и популярных алгоритмов кластеризации является алгоритм _K-means (K-средних)_. Заключается он в следующих шагах:\n",
    "\n",
    "1. Выбрать количество кластеров $k$, на которые будут делиться данные.\n",
    "\n",
    "\n",
    "2. Случайным образом выбрать в пространстве данных $k$ точек $c_{k}$ (центроидов) - центров будущих кластеров.\n",
    "\n",
    "\n",
    "3. Для каждой точки из выборки посчитать, к какому из центроидов она ближе.\n",
    "\n",
    "\n",
    "4. Переместить каждый центроид в центр выборки, отнесенной к этому центроиду, определив его как среднее арифметическое всех точек кластера:\n",
    "\n",
    "$$c_{k} = \\frac{\\sum_{i=1}^{l}[a(x_{i})=k]x_{i}}{\\sum_{i=1}^{l}[a(x_{i}) = k]}.$$\n",
    "\n",
    "\n",
    "5. Повторить шаги 3-4 до сходимости алгоритма (обычно это оценивается по величине смещения центроида после каждого шага - сходимость означает непревышение смещения какого-то заданного значения).\n",
    "\n",
    "Результат работы алгоритма значительно зависит от начального выбора центроидов. Существует много методик их выбора, наиболее удачным из которых считается k-means++. Он заключается в последовательном выборе начальных приближений так, что вероятность выбрать в качестве центроида следующую точку пропорциональна квадрату расстояния от нее до ближайшего центроида."
   ]
  },
  {
   "cell_type": "markdown",
   "metadata": {
    "id": "2v7sbNMFuf_D"
   },
   "source": [
    "Проблемой метода также является необходимость знать число кластеров, на которые будет делиться выборка. В случае, когда это число неизвестно, вариантом ее решения может быть последовательная кластеризация на разное число кластеров (например, от 1 до 10) с последующим анализом качества работы алгоритма, например, по сумме квадратов внутрикластерных расстояний     $$\\sum_{k=1}^{K}\\sum_{i=1}^{l}[a(x_{i})=k]\\rho^{2}(x_{i}, c_{k}),$$ - выбирается такое число кластеров, начиная с которого при увеличении количества кластеров функционал падает незначительно."
   ]
  },
  {
   "cell_type": "markdown",
   "metadata": {},
   "source": [
    "<img src='images/elbow.png'>"
   ]
  },
  {
   "cell_type": "markdown",
   "metadata": {
    "id": "nEhfY3kMuf_E"
   },
   "source": [
    "Сделаем простую реализацию алгоритма K-means своими руками на Python."
   ]
  },
  {
   "cell_type": "markdown",
   "metadata": {
    "id": "xDbkTkTYuf_F"
   },
   "source": [
    "Вначале сгенерируем три облака точек с помощью инструментов `sklearn`."
   ]
  },
  {
   "cell_type": "code",
   "execution_count": null,
   "metadata": {
    "id": "qRhCTQdZuf_G"
   },
   "outputs": [],
   "source": [
    "from sklearn.datasets import make_blobs, make_moons\n",
    "\n",
    "X, y = make_blobs(n_samples=100, random_state=1)\n",
    "# X, y = make_moons(n_samples=200, noise=0.05, random_state=1)"
   ]
  },
  {
   "cell_type": "markdown",
   "metadata": {
    "id": "Vv0J1xcDuf_H"
   },
   "source": [
    "Изобразим точки на графике."
   ]
  },
  {
   "cell_type": "code",
   "execution_count": null,
   "metadata": {
    "id": "I6VqFOARuf_I",
    "outputId": "0b4f8980-a699-4bc3-9256-6c6f6d029839"
   },
   "outputs": [],
   "source": [
    "plt.figure(figsize=(7, 7))\n",
    "plt.scatter(X[:, 0], X[:, 1]);"
   ]
  },
  {
   "cell_type": "markdown",
   "metadata": {
    "id": "a421abi0uf_L"
   },
   "source": [
    "В качестве метрики расстояния будем использовать евклидово расстояние, функция для которого была написана ранее. В качестве центроидов выберем первые k элементов датасета. Реализуем основной цикл алгоритма."
   ]
  },
  {
   "cell_type": "code",
   "execution_count": null,
   "metadata": {
    "id": "7LSTomiyuf_L"
   },
   "outputs": [],
   "source": [
    "def kmeans(data, k, max_iterations, min_distance):\n",
    "    # Создадим словарь для кластеризации\n",
    "    clusters = {i: [] for i in range(k)}\n",
    "    \n",
    "    # инициализируем центроиды как первые k элементов датасета\n",
    "    centroids = [data[i] for i in range(k)]\n",
    "    \n",
    "    for _ in range(max_iterations):\n",
    "        # кластеризуем объекты по центроидам\n",
    "        for x in data:\n",
    "            # определим расстояния от объекта до каждого центроида\n",
    "            distances = [e_metrics(x, centroid) for centroid in centroids]\n",
    "            # отнесем объект к кластеру, до центроида которого наименьшее расстояние\n",
    "            cluster = distances.index(min(distances))\n",
    "            clusters[cluster].append(x)\n",
    "        \n",
    "        # сохраним предыдущие центроиды в отдельный список для последующего сравнения сновыми\n",
    "        old_centroids = centroids.copy()\n",
    "        \n",
    "        # пересчитаем центроиды как среднее по кластерам\n",
    "        for cluster in clusters:\n",
    "            centroids[cluster] = np.mean(clusters[cluster], axis=0)\n",
    "            \n",
    "        # сравним величину смещения центроидов с минимальной\n",
    "        optimal = True\n",
    "        for centroid in range(len(centroids)):\n",
    "            if np.linalg.norm(centroids[centroid] - old_centroids[centroid], ord=2) > min_distance:\n",
    "                optimal = False\n",
    "                break\n",
    "        \n",
    "        # если все смещения меньше минимального, останавливаем алгоритм  \n",
    "        if optimal:\n",
    "            break\n",
    "    \n",
    "    return old_centroids, clusters"
   ]
  },
  {
   "cell_type": "markdown",
   "metadata": {
    "id": "hF5nlCxFuf_O"
   },
   "source": [
    "Напишем функцию для визуализации кластеров"
   ]
  },
  {
   "cell_type": "code",
   "execution_count": null,
   "metadata": {
    "id": "D5RysDcPuf_O"
   },
   "outputs": [],
   "source": [
    "def visualize(centroids, clusters):\n",
    "    colors = ['r', 'g', 'b', 'orange', 'y']\n",
    "    \n",
    "    plt.figure(figsize=(7,7))\n",
    "    \n",
    "    # нанесем на график центроиды\n",
    "    for centroid in centroids:\n",
    "        plt.scatter(centroid[0], centroid[1], marker='x', s=130, c='black')\n",
    "        \n",
    "    # нанесем объекты раскрашенные по классам\n",
    "    for cluster_item in clusters:\n",
    "        for x in clusters[cluster_item]:\n",
    "            plt.scatter(x[0], x[1], color=colors[cluster_item])\n",
    "            \n",
    "    plt.show()"
   ]
  },
  {
   "cell_type": "code",
   "execution_count": null,
   "metadata": {
    "id": "Hsy8q0FOuf_Q"
   },
   "outputs": [],
   "source": [
    "# определим максимальное количество итераций\n",
    "max_iterations = 1\n",
    "\n",
    "# и минимальное расстояние между центроидами до пересчета и после него, при котором нужно остановить алгоритм\n",
    "min_distance = 1e-4\n",
    "\n",
    "# сразу определим известное нам количество кластеров\n",
    "k = 3"
   ]
  },
  {
   "cell_type": "markdown",
   "metadata": {
    "id": "ykFQU-1guf_S"
   },
   "source": [
    "Проверим результат алгоритма после одной итерации"
   ]
  },
  {
   "cell_type": "code",
   "execution_count": null,
   "metadata": {
    "id": "DzJTqoBuuf_T",
    "outputId": "7b5eb959-2373-4657-f33d-e6f40a2ecd4c"
   },
   "outputs": [],
   "source": [
    "centroids, clusters = kmeans(X, k, max_iterations, min_distance)\n",
    "\n",
    "visualize(centroids, clusters)"
   ]
  },
  {
   "cell_type": "markdown",
   "metadata": {
    "id": "3_Zi1CuPuf_W"
   },
   "source": [
    "Проверим работу алгоритма при различном числе итераций."
   ]
  },
  {
   "cell_type": "code",
   "execution_count": null,
   "metadata": {
    "id": "Rt7c3Vdxuf_X",
    "outputId": "f95a9a45-7366-4837-fece-6e25d9163c8b"
   },
   "outputs": [],
   "source": [
    "max_iterations = 3\n",
    "\n",
    "centroids, clusters = kmeans(X, k, max_iterations, min_distance)\n",
    "\n",
    "visualize(centroids, clusters)"
   ]
  },
  {
   "cell_type": "code",
   "execution_count": null,
   "metadata": {
    "id": "YfMBMBlQuf_a",
    "outputId": "959c1659-47cd-4df4-af49-74d2f591a3b7"
   },
   "outputs": [],
   "source": [
    "max_iterations = 5\n",
    "\n",
    "centroids, clusters = kmeans(X, k, max_iterations, min_distance)\n",
    "\n",
    "visualize(centroids, clusters)"
   ]
  },
  {
   "cell_type": "code",
   "execution_count": null,
   "metadata": {
    "id": "tfdoJFyUuf_c",
    "outputId": "536aeb9d-4b54-4333-867e-1473a026deae"
   },
   "outputs": [],
   "source": [
    "max_iterations = 10\n",
    "\n",
    "centroids, clusters = kmeans(X, k, max_iterations, min_distance)\n",
    "\n",
    "visualize(centroids, clusters)"
   ]
  },
  {
   "cell_type": "markdown",
   "metadata": {
    "id": "K_E1dFmeuf_e"
   },
   "source": [
    "Видно, как при увеличении количества итераций центроиды перемещаются в центр образующихся кластеров."
   ]
  },
  {
   "cell_type": "markdown",
   "metadata": {
    "id": "Fb9vr5iXuf_e"
   },
   "source": [
    "Как и говорилось ранее, метод K-means очень чувствителен к выбору начальных центров кластеров, и это является одним из его основных минусов, среди которых также сложность работы с разными формами кластеров (они, например, могут быть вытянутыми, образовывать фигуры и т.п.). В связи с этим существуют другие методы кластеризации, о которых можно прочитать в дополнительных материалах. Там же есть сравнение работы алгоритмов с кластерами различных форм."
   ]
  },
  {
   "cell_type": "markdown",
   "metadata": {},
   "source": [
    "## Домашнее задание<a class='anchor' id='hw'>"
   ]
  },
  {
   "cell_type": "markdown",
   "metadata": {},
   "source": [
    "1. К алгоритму kNN, реализованному на уроке, реализовать добавление весов для соседей по любому из показанных на уроке принципов.\n",
    "2. *Написать функцию подсчета метрики качества кластеризации как среднее квадратичное внутрикластерное расстояние и построить график ее зависимости от количества кластеров k (взять от 1 до 10) для выборки данных из данного урока (создать датасет, как в методичке).\n",
    "3. *Оптимизировать код для KNN (оставить один цикл, либо обойтись без циклов вообще)."
   ]
  },
  {
   "cell_type": "markdown",
   "metadata": {},
   "source": [
    "Проект: \n",
    "1. https://www.kaggle.com/t/9bdc38c9440f4723976e14e219eb2735 регрессия\n",
    "1. https://www.kaggle.com/t/a51a55b2bf984a9db9ff888e9a11e3d8 классификация"
   ]
  },
  {
   "cell_type": "markdown",
   "metadata": {
    "id": "L_LkljD0uf_f"
   },
   "source": [
    "## Дополнительные матриалы"
   ]
  },
  {
   "cell_type": "markdown",
   "metadata": {
    "id": "zw4kpwm0uf_f"
   },
   "source": [
    "1. Факторный, дискриминантный и кластерный анализ: Пер. с англ./Дж.-О. Ким, Ч. У. Мьюллер, У. Р. Клекка и др.; Под ред. И. С. Енюкова. — М.: Финансы и статистика, 1989.— 215 с.\n",
    "2. [Об использовании мер сходства при анализе документации](http://ceur-ws.org/Vol-803/paper18.pdf)\n",
    "3. [KNN Algorithm](https://medium.com/datadriveninvestor/knn-algorithm-and-implementation-from-scratch-b9f9b739c28f)\n",
    "4. [Проклятие размерности](http://www.machinelearning.ru/wiki/index.php?title=%D0%9F%D1%80%D0%BE%D0%BA%D0%BB%D1%8F%D1%82%D0%B8%D0%B5_%D1%80%D0%B0%D0%B7%D0%BC%D0%B5%D1%80%D0%BD%D0%BE%D1%81%D1%82%D0%B8); ([Иллюстрация](https://www.youtube.com/watch?v=R2hQIJb0Lis))\n",
    "5. [Оценка качества кластеризации](http://neerc.ifmo.ru/wiki/index.php?title=%D0%9E%D1%86%D0%B5%D0%BD%D0%BA%D0%B0_%D0%BA%D0%B0%D1%87%D0%B5%D1%81%D1%82%D0%B2%D0%B0_%D0%B2_%D0%B7%D0%B0%D0%B4%D0%B0%D1%87%D0%B5_%D0%BA%D0%BB%D0%B0%D1%81%D1%82%D0%B5%D1%80%D0%B8%D0%B7%D0%B0%D1%86%D0%B8%D0%B8)\n",
    "6. [Обзор алгоритмов кластеризации данных](https://habr.com/ru/post/101338/)\n",
    "7. [Работа алгоритмов кластеризации на классах разной формы](https://scikit-learn.org/stable/modules/clustering.html)"
   ]
  },
  {
   "cell_type": "markdown",
   "metadata": {},
   "source": [
    "## Summary"
   ]
  },
  {
   "cell_type": "markdown",
   "metadata": {},
   "source": [
    "__kNN__\n",
    "* Метрический алгоритм классификации по \"ближайшим соседям\"\n",
    "* Разновидности: ближайший сосед, k ближайших соседей, k взвешанных ближайших соседей\n",
    "* Алгоритм интерпретируем\n",
    "* Проблемы и их решения\n",
    "    * Выбор метрики __->__ нет единого алгоритма, позволяющего выбрать метрику, поэтому используют что-то из \"стандартного\" (например, Евклидова)\n",
    "    * Выбор числа соседей k __->__ подбор на основании кросс-валидации\n",
    "    * Много признаков - \"проклятие размерности\" __->__ предварительный отбор признаков (feature selection)\n",
    "\n",
    "__k-means__\n",
    "* Кластеризует неразмеченные объекты, помогая найти структуру в данных\n",
    "* Является метрическим алгоритмом\n",
    "* Можно использовать для генерации нового признака - номера кластера\n",
    "* Проблемы и их решения\n",
    "    * Алгоритм чувствителен к выбору начальных центров кластеров __->__ как вариант, на начальном этапе принимать в качестве центров самые отдаленные точки\n",
    "    * Необходимо заранее знать количество кластеров __->__ выбор исходя из природы данных, либо оценка исходя из распределений признаков или 2D/3D представления объектов (PCA, TSNE)\n",
    "    * Не гарантируется достижение глобального минимума суммарного квадратичного отклонения, а только одного из локальных минимумов (пример на картинке ниже) __->__ инициализировать начальные центры не случайно\n",
    "    \n",
    "<img src=\"https://upload.wikimedia.org/wikipedia/commons/thumb/7/7c/K-means_convergence_to_a_local_minimum.png/1920px-K-means_convergence_to_a_local_minimum.png\" style=\"width: 1000px;\">"
   ]
  },
  {
   "cell_type": "markdown",
   "metadata": {},
   "source": [
    "### Определения\n",
    "*Метрические алгоритмы*\n",
    "\n",
    "**Метрический алгоритм** — алгоритм машинного обучения, основанный на вычислении оценок сходства между объектами.\n",
    "\n",
    "Три аксиомы, которые должны удовлетворяться, чтобы функция считалась метрикой:\n",
    "\n",
    "1. $\\rho(x, y) \\geq 0, \\rho(x, y) = 0 \\Leftrightarrow x = y;$\n",
    "2. $\\rho(x, y) = \\rho (y, x);$\n",
    "3. $\\rho(x, y) \\leq \\rho(x, z) + \\rho(z, y).$\n",
    "\n",
    "**Косинусное сходство (косинусная мера)**:\n",
    "\n",
    "$$\\text{cos}\\theta = \\frac{\\left \\langle x, y \\right \\rangle}{||x||\\cdot||y||} = \\frac{\\sum_{i=1}^{n}x_{i}y_{i}}{\\sqrt{\\sum_{i=1}^{n}x_{i}^{2}}\\sqrt{\\sum_{i=1}^{n}y_{i}^{2}}}.$$\n",
    "**Косинусное расстояние**:\n",
    "\n",
    "$$\\rho_{cos}(x, y) = 1 - \\text{cos}\\theta = 1 - \\frac{\\sum_{i=1}^{n}x_{i}y_{i}}{\\sqrt{\\sum_{i=1}^{n}x_{i}^{2}}\\sqrt{\\sum_{i=1}^{n}y_{i}^{2}}}.$$\n",
    "\n",
    "___________\n",
    "\n",
    "*Внутренние метрики качества кластеризации*\n",
    "\n",
    "**Silhouette** —- является мерой того, насколько объект похож на свой собственный кластер (сплоченность) по сравнению с другими кластерами (разделение).\n",
    "\n",
    "$$s = \\frac{1}{n}\\sum{\\frac{b-a}{max(a, b)}}$$\n",
    "- а — среднее расстояние от данного объекта до объектов из того же кластера\n",
    "- b — среднее расстояние от данного объекта до объектов из ближайшего кластера (отличного от того, в котором лежит сам объект)\n",
    "\n",
    "___________\n",
    "*Внешние метрики качества кластеризации*\n",
    "\n",
    "**Rand Index (RI)** — Доля объектов, для которых разбиения (исходное и полученное в результате кластеризации) \"согласованы\".\n",
    " $$Rand = \\frac{a+b}{a+b+c+d} = \\frac{a+b}{{n \\choose 2 }}, где$$\n",
    " \n",
    " $ {n \\choose 2} = {\\frac{n(n-1)}{2}}$\n",
    "\n",
    "Здесь количество пар объектов $(x_{i}.x_{j})$, \n",
    " - а - принадлежат одному кластеру и одному классу,\n",
    " - b - принадлежат разным кластерам и разным классам,\n",
    " - c - принадлежат разным кластерам, но одному классу,\n",
    " - d - принадлежат одному кластеру, но разным классам.\n",
    "\n",
    "**Adjusted Rand Index (ARI)** — Нормированная доля объектов, для которых разбиения (исходное и полученное в результате кластеризации) \"согласованы\".\n",
    "\n",
    "\n",
    "$$ARI= \\frac{RI - \\text{Expected_RI}}{max(RI) - \\text{Expected_RI}} =  {\\frac {2 * (a*d - b*c)}{(a+b) * (b+d) + (a + c) * (c + d)}}$$\n",
    "\n",
    "**Гомогенность** измеряет, насколько каждый кластер состоит из объектов одного класса.\n",
    "\n",
    "$$h = 1 - \\frac{H(C|K)}{H(C)}$$\n",
    "\n",
    "**Полнота** измеряет, насколько объекты одного класса относятся к одному кластеру.\n",
    "\n",
    "$$c = 1 - \\frac{H(K|C)}{H(K)}$$\n",
    "\n",
    "**V-мера**\n",
    "\n",
    "Для учёта гомогенности и полноты одновременно вводится V-мера, как их среднее гармоническое:\n",
    "\n",
    "$$v = 2\\frac{hc}{h+c}$$\n"
   ]
  }
 ],
 "metadata": {
  "colab": {
   "collapsed_sections": [],
   "name": "Lesson_7(edited).ipynb",
   "provenance": []
  },
  "kernelspec": {
   "display_name": "Python 3",
   "language": "python",
   "name": "python3"
  },
  "language_info": {
   "codemirror_mode": {
    "name": "ipython",
    "version": 3
   },
   "file_extension": ".py",
   "mimetype": "text/x-python",
   "name": "python",
   "nbconvert_exporter": "python",
   "pygments_lexer": "ipython3",
   "version": "3.8.5"
  }
 },
 "nbformat": 4,
 "nbformat_minor": 1
}
